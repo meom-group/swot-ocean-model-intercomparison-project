{
 "cells": [
  {
   "cell_type": "markdown",
   "id": "971a18fc-e484-46c2-a18d-f26a6ae9fccc",
   "metadata": {},
   "source": [
    "<div style=\"background-color: steelblue; padding: 10px; border-radius: 5px;\">\n",
    "    <p style=\"margin: 10;\"></p>\n",
    "    <h1 style=\"text-align: center; margin: 0; font-weight: bold; color: white;\">SWOT Ocean Model Intercomparison Project : EORCA12-ERA5v1 Test Case</h1>\n",
    "    <p style=\"margin: 10;\"></p>\n",
    "</div>\n",
    "\n"
   ]
  },
  {
   "cell_type": "markdown",
   "id": "9d3e53be-ab8a-41c9-b3f4-a3f17aacfc7d",
   "metadata": {},
   "source": [
    "## 📦**Imports** "
   ]
  },
  {
   "cell_type": "code",
   "execution_count": 1,
   "id": "63a8c831-6e17-4d0e-a7af-9e6bd2b84be6",
   "metadata": {},
   "outputs": [
    {
     "name": "stdout",
     "output_type": "stream",
     "text": [
      "CPU times: user 2.68 s, sys: 1.97 s, total: 4.64 s\n",
      "Wall time: 2.08 s\n"
     ]
    }
   ],
   "source": [
    "%%time\n",
    "\n",
    "##################################\n",
    "#Imports\n",
    "\n",
    "from datetime import datetime\n",
    "import s3fs\n",
    "import xarray as xr\n",
    "import pyinterp\n",
    "from widetrax import DataPreprocessing as dp\n",
    "from widetrax import Spectra as sp\n",
    "import numpy as np\n",
    "import json\n",
    "from watermark import watermark\n",
    "import time\n",
    "import platform"
   ]
  },
  {
   "cell_type": "markdown",
   "id": "bc7085b2-0401-4991-8bb7-955739727e86",
   "metadata": {},
   "source": [
    "## 🔍 **Check the S3 Endpoint**  "
   ]
  },
  {
   "cell_type": "code",
   "execution_count": 2,
   "id": "8775da79-d598-40a5-8202-a619a511bdc3",
   "metadata": {},
   "outputs": [
    {
     "name": "stdout",
     "output_type": "stream",
     "text": [
      "Bucket contents:\n",
      "npd-eorca12-era5v1-swot-omip/cycle_008\n",
      "npd-eorca12-era5v1-swot-omip/cycle_009\n",
      "npd-eorca12-era5v1-swot-omip/cycle_010\n",
      "npd-eorca12-era5v1-swot-omip/cycle_011\n",
      "npd-eorca12-era5v1-swot-omip/cycle_012\n",
      "npd-eorca12-era5v1-swot-omip/cycle_013\n",
      "npd-eorca12-era5v1-swot-omip/cycle_014\n",
      "npd-eorca12-era5v1-swot-omip/cycle_015\n",
      "npd-eorca12-era5v1-swot-omip/cycle_016\n",
      "npd-eorca12-era5v1-swot-omip/cycle_017\n",
      "npd-eorca12-era5v1-swot-omip/cycle_018\n",
      "npd-eorca12-era5v1-swot-omip/cycle_019\n",
      "npd-eorca12-era5v1-swot-omip/cycle_020\n",
      "npd-eorca12-era5v1-swot-omip/cycle_021\n",
      "npd-eorca12-era5v1-swot-omip/cycle_022\n",
      "npd-eorca12-era5v1-swot-omip/cycle_023\n",
      "npd-eorca12-era5v1-swot-omip/cycle_024\n",
      "npd-eorca12-era5v1-swot-omip/cycle_025\n",
      "npd-eorca12-era5v1-swot-omip/cycle_026\n"
     ]
    }
   ],
   "source": [
    "s3_folder =\"s3://npd-eorca12-era5v1-swot-omip\"\n",
    "endpoint_url =  \"https://noc-msm-o.s3-ext.jc.rl.ac.uk\"\n",
    "fs = s3fs.S3FileSystem(anon=True,endpoint_url=endpoint_url)\n",
    "# List contents of the bucket\n",
    "bucket_name = 's3://npd-eorca12-era5v1-swot-omip'\n",
    "contents = fs.ls(bucket_name)\n",
    "print(\"Bucket contents:\")\n",
    "for item in contents:\n",
    "    print(item)"
   ]
  },
  {
   "cell_type": "markdown",
   "id": "c6461d2a-173a-4527-bdc3-37cc8eee2d40",
   "metadata": {},
   "source": [
    "## 🧮 **Required variables**"
   ]
  },
  {
   "cell_type": "code",
   "execution_count": 3,
   "id": "87fc6c42-51d5-41ac-8380-559428671ef9",
   "metadata": {},
   "outputs": [],
   "source": [
    "# REGION A\n",
    "\n",
    "name_region=\"Region_B\"\n",
    "season=\"JFM\"\n",
    "\n",
    "if name_region==\"Region_A\":\n",
    "    lon_min = 360-70,\n",
    "    lon_max = 360-60,\n",
    "    lat_min = 32,\n",
    "    lat_max = 42,\n",
    "elif name_region==\"Region_B\":\n",
    "    lon_min = 360-50,\n",
    "    lon_max = 360-40,\n",
    "    lat_min = 17,\n",
    "    lat_max = 27,\n",
    "\n",
    "area = [lon_min, lat_min, lon_max, lat_max]\n",
    "\n",
    "if season==\"JFM\":    \n",
    "    start_date = \"01012024\" # \"DDMMYYYY\"\n",
    "    end_date =\"31032024\"\n",
    "elif season==\"JAS\":\n",
    "    start_date = \"01072024\" # \"DDMMYYYY\"\n",
    "    end_date =\"30092024\""
   ]
  },
  {
   "cell_type": "code",
   "execution_count": 4,
   "id": "c5b86783-5648-4224-9413-d99b1a00fb56",
   "metadata": {},
   "outputs": [
    {
     "data": {
      "text/plain": [
       "'31032024'"
      ]
     },
     "execution_count": 4,
     "metadata": {},
     "output_type": "execute_result"
    }
   ],
   "source": [
    "end_date"
   ]
  },
  {
   "cell_type": "markdown",
   "id": "85c50142-e9eb-4879-b562-78dc52b1857e",
   "metadata": {},
   "source": [
    "## 🔄 **Identify the cycle numbers within the specified time range** "
   ]
  },
  {
   "cell_type": "code",
   "execution_count": 5,
   "id": "6bfcbd8f-13ca-4371-a1bd-30f29d8d3741",
   "metadata": {},
   "outputs": [
    {
     "data": {
      "text/plain": [
       "['008', '009', '010', '011', '012', '013']"
      ]
     },
     "execution_count": 5,
     "metadata": {},
     "output_type": "execute_result"
    }
   ],
   "source": [
    "if season ==\"JFM\":\n",
    "    file_path = \"https://minio.lab.dive.edito.eu/project-meom-ige/cycles_periods.csv\" # works only for winter period\n",
    "elif season ==\"JAS\":\n",
    "    file_path = \"time_ranges.csv\"  # for summer\n",
    "\n",
    "matching_cycles = dp.get_matching_cycles(file_path, start_date, end_date)\n",
    "\n",
    "def formater_numeros_concis(liste_numeros):\n",
    "  return [str(numero).zfill(3) for numero in liste_numeros]\n",
    "    \n",
    "matching_cycles = formater_numeros_concis(matching_cycles)\n",
    "matching_cycles\n"
   ]
  },
  {
   "cell_type": "markdown",
   "id": "a02c66bf-7437-42b6-b29a-907e93036754",
   "metadata": {},
   "source": [
    "## 📊 **Load datasets and compute Wavenumber spectra**"
   ]
  },
  {
   "cell_type": "code",
   "execution_count": 6,
   "id": "371aff62-7090-4981-8e0b-8e5f52fee41a",
   "metadata": {},
   "outputs": [
    {
     "name": "stdout",
     "output_type": "stream",
     "text": [
      "H_008_5 included.\n",
      "H_008_5 included.\n",
      "H_008_5 included.\n",
      "H_008_5 included.\n",
      "H_008_5 included.\n",
      "H_009_0 included.\n",
      "H_009_0 included.\n",
      "H_009_0 included.\n",
      "H_009_0 included.\n",
      "H_009_0 included.\n",
      "H_009_1 included.\n",
      "H_009_1 included.\n",
      "H_009_2 included.\n",
      "H_009_2 included.\n",
      "H_009_2 included.\n",
      "H_009_2 included.\n",
      "H_009_2 included.\n",
      "H_009_3 included.\n",
      "H_009_3 included.\n",
      "H_009_3 included.\n",
      "H_009_3 included.\n",
      "H_009_5 included.\n",
      "H_009_5 included.\n",
      "H_009_5 included.\n",
      "H_009_5 included.\n",
      "H_009_5 included.\n",
      "H_010_0 included.\n",
      "H_010_0 included.\n",
      "H_010_0 included.\n",
      "H_010_0 included.\n",
      "H_010_0 included.\n",
      "H_010_1 included.\n",
      "H_010_1 included.\n",
      "H_010_2 included.\n",
      "H_010_2 included.\n",
      "H_010_2 included.\n",
      "H_010_2 included.\n",
      "H_010_2 included.\n",
      "H_010_3 included.\n",
      "H_010_3 included.\n",
      "H_010_3 included.\n",
      "H_010_3 included.\n",
      "H_010_5 included.\n",
      "H_010_5 included.\n",
      "H_010_5 included.\n",
      "H_010_5 included.\n",
      "H_010_5 included.\n",
      "H_011_0 included.\n",
      "H_011_0 included.\n",
      "H_011_0 included.\n",
      "H_011_0 included.\n",
      "H_011_0 included.\n",
      "H_011_1 included.\n",
      "H_011_1 included.\n",
      "H_011_2 included.\n",
      "H_011_2 included.\n",
      "H_011_2 included.\n",
      "H_011_2 included.\n",
      "H_011_2 included.\n",
      "H_011_3 included.\n",
      "H_011_3 included.\n",
      "H_011_3 included.\n",
      "H_011_3 included.\n",
      "H_011_5 included.\n",
      "H_011_5 included.\n",
      "H_011_5 included.\n",
      "H_011_5 included.\n",
      "H_011_5 included.\n",
      "H_012_0 included.\n",
      "H_012_0 included.\n",
      "H_012_0 included.\n",
      "H_012_0 included.\n",
      "H_012_0 included.\n",
      "H_012_1 included.\n",
      "H_012_1 included.\n",
      "H_012_2 included.\n",
      "H_012_2 included.\n",
      "H_012_2 included.\n",
      "H_012_2 included.\n",
      "H_012_2 included.\n",
      "H_012_3 included.\n",
      "H_012_3 included.\n",
      "H_012_3 included.\n",
      "H_012_3 included.\n",
      "H_012_5 included.\n",
      "H_012_5 included.\n",
      "H_012_5 included.\n",
      "H_012_5 included.\n",
      "H_013_0 included.\n",
      "H_013_0 included.\n",
      "H_013_0 included.\n",
      "H_013_0 included.\n",
      "H_013_0 included.\n",
      "H_013_1 included.\n",
      "H_013_1 included.\n",
      "H_013_2 included.\n",
      "H_013_2 included.\n",
      "H_013_2 included.\n",
      "H_013_2 included.\n",
      "H_013_2 included.\n",
      "H_013_3 included.\n",
      "H_013_3 included.\n",
      "H_013_3 included.\n",
      "H_013_3 included.\n",
      "H_013_5 included.\n",
      "H_013_5 included.\n",
      "H_013_5 included.\n",
      "H_013_5 included.\n",
      "CPU times: user 7min 16s, sys: 4min 27s, total: 11min 44s\n",
      "Wall time: 1h 3min 35s\n"
     ]
    }
   ],
   "source": [
    "%%time\n",
    "\n",
    "# Load datasets into a dictionary\n",
    "datasets_dict = dp.read_swot_ncfiles_S3subfolders(\n",
    "    s3_folder,\n",
    "    matching_cycles,\n",
    "    endpoint_url,\n",
    "    area)"
   ]
  },
  {
   "cell_type": "code",
   "execution_count": 7,
   "id": "dc1511c0-88e9-4837-94b0-79d07bb91f65",
   "metadata": {},
   "outputs": [
    {
     "name": "stdout",
     "output_type": "stream",
     "text": [
      "CPU times: user 2.56 s, sys: 5.56 s, total: 8.12 s\n",
      "Wall time: 3.5 s\n"
     ]
    }
   ],
   "source": [
    "%%time \n",
    "has_converged, filled_datasets = dp.fill_nan(datasets_dict, varname = \"ssh\")"
   ]
  },
  {
   "cell_type": "code",
   "execution_count": 8,
   "id": "7f9712ff-7a57-4ebf-9435-a596e46216d1",
   "metadata": {},
   "outputs": [
    {
     "name": "stderr",
     "output_type": "stream",
     "text": [
      "/opt/anaconda3/envs/myenv/lib/python3.12/site-packages/widetrax/Spectra.py:43: FutureWarning: The return type of `Dataset.dims` will be changed to return a set of dimension names in future, in order to be more consistent with `DataArray.dims`. To access a mapping from dimension names to lengths, please use `Dataset.sizes`.\n",
      "  for col in range(dataset.dims['num_pixels']):\n"
     ]
    },
    {
     "name": "stdout",
     "output_type": "stream",
     "text": [
      "CPU times: user 268 ms, sys: 5.26 ms, total: 274 ms\n",
      "Wall time: 273 ms\n"
     ]
    }
   ],
   "source": [
    "%%time\n",
    "segments_dict = sp.retrieve_segments(filled_datasets,FileType = \"NetCDF\",namevar=\"ssh\")"
   ]
  },
  {
   "cell_type": "code",
   "execution_count": 9,
   "id": "59ef318b-9264-40a4-9171-5f2b6475e9b3",
   "metadata": {},
   "outputs": [
    {
     "name": "stdout",
     "output_type": "stream",
     "text": [
      "CPU times: user 759 ms, sys: 505 ms, total: 1.26 s\n",
      "Wall time: 4.64 s\n"
     ]
    }
   ],
   "source": [
    "%%time\n",
    "psd_dict, freqs_dict = sp.calculate_psd(segments_dict)\n",
    "# Calculate PSD Mean\n",
    "psd_mean, freqs_mean = sp.psd_mean_and_freq(psd_dict,freqs_dict)"
   ]
  },
  {
   "cell_type": "code",
   "execution_count": 10,
   "id": "b4ecb0d4-7c05-4a2a-93aa-634d1a72e20e",
   "metadata": {},
   "outputs": [
    {
     "data": {
      "text/plain": [
       "array([5.90961506e-02, 3.29254400e-01, 3.21693825e-01, 1.29223366e-01,\n",
       "       3.88877511e-02, 1.19787797e-02, 5.85140928e-03, 3.40200123e-03,\n",
       "       2.06481141e-03, 1.15005923e-03, 7.71239701e-04, 5.16809848e-04,\n",
       "       3.48522418e-04, 2.17749465e-04, 1.48894077e-04, 1.02324829e-04,\n",
       "       6.73343464e-05, 4.54140790e-05, 3.22805331e-05, 2.18908293e-05,\n",
       "       1.78903816e-05, 1.31410574e-05, 1.02871393e-05, 9.44720819e-06,\n",
       "       7.52881748e-06, 4.68597986e-06, 2.60018613e-06, 1.66079757e-06,\n",
       "       1.19530775e-06, 8.64194405e-07, 5.95381693e-07, 4.13509924e-07,\n",
       "       3.12449994e-07, 2.33125997e-07, 1.79161957e-07, 1.46075391e-07,\n",
       "       1.20347590e-07, 1.02672118e-07, 9.42187725e-08, 9.26598024e-08,\n",
       "       8.89879735e-08, 8.71948461e-08, 8.89528909e-08, 8.89739280e-08,\n",
       "       8.61665492e-08, 8.57988848e-08, 8.97825557e-08, 9.25724241e-08,\n",
       "       9.72592526e-08, 9.08730176e-08, 7.59306647e-08, 6.02231253e-08,\n",
       "       5.07673465e-08, 4.25156047e-08, 4.00489453e-08, 4.37857060e-08,\n",
       "       6.01236757e-08, 1.00147341e-07, 1.14223122e-07, 8.47514202e-08,\n",
       "       7.79438896e-08, 5.66799723e-08, 5.36038912e-08, 6.48234818e-08,\n",
       "       7.81407060e-08, 8.28973036e-08, 7.88315030e-08, 8.29938038e-08,\n",
       "       1.11803050e-07, 1.43039898e-07, 1.44547281e-07, 1.14803253e-07,\n",
       "       9.60420385e-08, 6.50728962e-08, 4.96551641e-08, 1.03496878e-07,\n",
       "       1.25933925e-07, 9.95758899e-08, 9.35259128e-08, 9.44334428e-08,\n",
       "       8.27262607e-08, 7.06755768e-08, 9.71005327e-08, 1.29976379e-07,\n",
       "       1.57338194e-07, 2.29373083e-07, 2.61071513e-07, 2.54211543e-07,\n",
       "       2.58652112e-07, 2.27250943e-07, 2.06512804e-07, 1.29700182e-07,\n",
       "       1.03890428e-07, 8.92569573e-08, 7.20642802e-08, 6.55520467e-08,\n",
       "       6.65690133e-08, 7.19877820e-08, 8.32527434e-08, 9.54452189e-08,\n",
       "       1.17165059e-07, 1.33897762e-07, 1.47042457e-07, 1.68683844e-07,\n",
       "       2.62208130e-07, 3.76102839e-07, 4.97652509e-07, 7.23509613e-07,\n",
       "       8.08483446e-07, 7.04281267e-07, 6.11621539e-07, 6.54480066e-07,\n",
       "       5.71390421e-07, 3.72539220e-07, 2.93786199e-07, 2.61434115e-07,\n",
       "       2.58778940e-07, 2.86710356e-07, 3.39206601e-07, 4.03008927e-07,\n",
       "       5.19243822e-07, 6.02537055e-07, 6.68776442e-07, 7.58772994e-07,\n",
       "       8.54955318e-07, 1.24693487e-06, 1.69956426e-06, 2.38852659e-06,\n",
       "       3.37294255e-06, 4.34694784e-06, 4.06463775e-06, 3.00748103e-06,\n",
       "       2.34723819e-06, 2.13734460e-06, 3.26163391e-06, 2.86259555e-06,\n",
       "       1.75084887e-06, 1.28215468e-06, 8.54367399e-07, 6.23899471e-07,\n",
       "       4.43325517e-07, 3.70352240e-07, 2.73063959e-07, 2.54110599e-07,\n",
       "       2.39555996e-07, 2.26016352e-07, 2.31104731e-07, 2.71685622e-07,\n",
       "       3.20423453e-07, 3.85510754e-07, 5.15888643e-07, 6.14807514e-07,\n",
       "       6.00150820e-07, 5.41417807e-07, 4.94887397e-07, 4.49670652e-07,\n",
       "       4.28778656e-07, 4.02878938e-07, 3.22493514e-07, 2.17153183e-07,\n",
       "       1.57230375e-07, 1.06195567e-07, 7.72259276e-08, 6.00750960e-08,\n",
       "       4.82768315e-08, 3.81891212e-08, 3.81779516e-08, 3.60003348e-08,\n",
       "       3.64724414e-08, 4.17963653e-08, 4.49290096e-08, 5.30203841e-08,\n",
       "       6.79721202e-08, 8.23335995e-08, 9.12992341e-08, 9.19013378e-08,\n",
       "       9.71512174e-08, 9.75938314e-08, 9.10410450e-08, 7.85689413e-08,\n",
       "       6.86184688e-08, 5.93509018e-08, 4.99090756e-08, 4.00041309e-08,\n",
       "       3.31516821e-08, 2.95052822e-08, 2.69235216e-08, 2.65434040e-08,\n",
       "       2.47569109e-08, 2.35795946e-08, 2.71694903e-08, 3.03444777e-08,\n",
       "       3.33617434e-08, 3.78505093e-08, 4.27705539e-08, 4.62010963e-08,\n",
       "       4.83024703e-08, 4.94569285e-08, 4.80534117e-08, 4.65236528e-08,\n",
       "       4.56038126e-08, 4.62404827e-08, 4.48925816e-08, 4.10329912e-08,\n",
       "       3.71473063e-08, 3.24262822e-08, 2.79619125e-08, 2.51164150e-08,\n",
       "       2.26137090e-08, 2.26864682e-08, 2.36204711e-08, 2.64922143e-08,\n",
       "       2.92284361e-08, 3.09696492e-08, 3.31173803e-08, 3.75882437e-08,\n",
       "       4.35611418e-08, 4.80039143e-08, 4.71895889e-08, 4.35647653e-08,\n",
       "       4.19227365e-08, 4.15419340e-08, 3.75615316e-08, 3.35280334e-08,\n",
       "       2.92940975e-08, 2.74158647e-08, 2.61812128e-08, 2.47338479e-08,\n",
       "       2.27279721e-08, 2.28336003e-08, 2.44457907e-08, 2.63261735e-08,\n",
       "       2.93855012e-08, 3.66043958e-08, 4.47477333e-08, 4.96560156e-08,\n",
       "       6.62543438e-08, 9.70412371e-08, 1.15559188e-07, 1.23906756e-07,\n",
       "       1.36843489e-07, 1.37523872e-07, 1.22878284e-07, 1.20432451e-07,\n",
       "       1.18943620e-07, 1.12662696e-07, 9.14659196e-08, 7.42859155e-08,\n",
       "       6.07873321e-08, 4.85877776e-08, 3.82537942e-08, 3.02691512e-08,\n",
       "       2.79870540e-08, 2.68776074e-08, 2.65904643e-08, 2.80372319e-08,\n",
       "       2.97275127e-08, 3.29484922e-08, 4.15075974e-08, 5.19311990e-08,\n",
       "       5.64531476e-08, 5.63598435e-08, 6.58704205e-08, 7.26074519e-08,\n",
       "       5.62617906e-08, 4.92217988e-08, 5.77345833e-08, 6.22012348e-08,\n",
       "       5.70639812e-08, 4.95031698e-08, 4.81175929e-08, 4.20537700e-08,\n",
       "       3.79057999e-08, 3.80300101e-08, 4.02034249e-08, 4.42470005e-08,\n",
       "       4.98417694e-08, 6.13485284e-08, 7.11968972e-08, 8.49793055e-08,\n",
       "       1.05232544e-07, 1.38929988e-07, 1.53627115e-07, 1.44372196e-07,\n",
       "       1.69524684e-07, 1.93373881e-07, 1.42381685e-07, 5.19491797e-08])"
      ]
     },
     "execution_count": 10,
     "metadata": {},
     "output_type": "execute_result"
    }
   ],
   "source": [
    "psd_mean"
   ]
  },
  {
   "cell_type": "markdown",
   "id": "f60c3776-1df4-4bbb-abd7-20dde44c01b3",
   "metadata": {},
   "source": [
    "## 💾 **Save Results and Information in JSON File**"
   ]
  },
  {
   "cell_type": "code",
   "execution_count": 11,
   "id": "1b7c4e9e-0a0c-4903-97e2-345248d4350c",
   "metadata": {},
   "outputs": [
    {
     "name": "stdout",
     "output_type": "stream",
     "text": [
      "JSON file created\n"
     ]
    }
   ],
   "source": [
    "# Infos\n",
    "nom_region = name_region\n",
    "model = \"NOC-eORCA12\"\n",
    "name_season = season\n",
    "freqs_mean = np.array(freqs_mean)\n",
    "psd_mean = np.array(psd_mean)\n",
    "todays_Date = datetime.now()\n",
    "date_creation = todays_Date.isoformat() #ISO 8601 format\n",
    "packages_versions = watermark(packages=\"numpy,widetrax,xarray,s3fs,pyinterp,datetime,json,platform,time\")\n",
    "machine_info = {\n",
    "    \"system\": platform.system(),\n",
    "    \"node_name\": platform.node(),\n",
    "    \"release\": platform.release(),\n",
    "    \"version\": platform.version(),\n",
    "    \"machine\": platform.machine(),\n",
    "    \"processor\": platform.processor(),\n",
    "    \"python_version\": platform.python_version()\n",
    "}\n",
    "\n",
    "# JSON file structure\n",
    "donnees = {\n",
    "    \"region\": nom_region,\n",
    "    \"model\": model,\n",
    "    \"lon_min\": lon_min,\n",
    "    \"lon_max\": lon_max,\n",
    "    \"lat_min\": lat_min,\n",
    "    \"lat_max\": lat_max,\n",
    "    \"start_date\": datetime.strptime(start_date, \"%d%m%Y\").strftime(\"%Y-%m-%d\"),\n",
    "    \"end_date\": datetime.strptime(end_date, \"%d%m%Y\").strftime(\"%Y-%m-%d\"),\n",
    "    \"packages_versions\": packages_versions,\n",
    "    \"date_creation\": date_creation,\n",
    "    \"login_creator\": platform.node(),\n",
    "    \"Frequency\": freqs_mean.tolist(),\n",
    "    \"Spectra\": psd_mean.tolist(),\n",
    "    \"machine_info\": machine_info\n",
    "}\n",
    "\n",
    "# Save on JSON file\n",
    "with open(str(nom_region)+\"_\"+str(name_season)+\"_\"+str(model)+\".json\", \"w\", encoding=\"utf-8\") as f:\n",
    "    json.dump(donnees, f, ensure_ascii=False, indent=4)\n",
    "#with open(\"OMIP_\"+str(model)+\"_\"+str(nom_region)+\"_\"+str(name_season)+\".json\", \"w\", encoding=\"utf-8\") as f:\n",
    "  #  json.dump(donnees, f, ensure_ascii=False, indent=4)\n",
    "\n",
    "#<region>-<period>-<data-source>.json\n",
    "print(\"JSON file created\")"
   ]
  },
  {
   "cell_type": "markdown",
   "id": "ceb9ff90-2512-4064-a967-277ade24e123",
   "metadata": {},
   "source": [
    "## 📤 **Export Results to the S3 Endpoint** "
   ]
  },
  {
   "cell_type": "code",
   "execution_count": 12,
   "id": "f16ad42b-62d6-4dd0-a4a9-73832c777f1c",
   "metadata": {},
   "outputs": [],
   "source": [
    "fs = s3fs.S3FileSystem( anon=True, endpoint_url=\"https://minio.lab.dive.edito.eu\", use_ssl=False ) "
   ]
  },
  {
   "cell_type": "code",
   "execution_count": 13,
   "id": "28f11812-7154-4c0d-9fe2-43fdb36b2b94",
   "metadata": {},
   "outputs": [
    {
     "data": {
      "text/plain": [
       "[None]"
      ]
     },
     "execution_count": 13,
     "metadata": {},
     "output_type": "execute_result"
    }
   ],
   "source": [
    "json_file = str(nom_region)+\"_\"+str(name_season)+\"_\"+str(model)+\".json\"\n",
    "fs.put(json_file, \"project-meom-ige/OMIP/\")"
   ]
  },
  {
   "cell_type": "code",
   "execution_count": 16,
   "id": "3ca414dc-e295-40ba-8e16-162ae2bde72c",
   "metadata": {},
   "outputs": [
    {
     "data": {
      "text/plain": [
       "<s3fs.core.S3FileSystem at 0x3439b6630>"
      ]
     },
     "execution_count": 16,
     "metadata": {},
     "output_type": "execute_result"
    }
   ],
   "source": [
    "fs"
   ]
  }
 ],
 "metadata": {
  "kernelspec": {
   "display_name": "Python 3 (ipykernel)",
   "language": "python",
   "name": "python3"
  },
  "language_info": {
   "codemirror_mode": {
    "name": "ipython",
    "version": 3
   },
   "file_extension": ".py",
   "mimetype": "text/x-python",
   "name": "python",
   "nbconvert_exporter": "python",
   "pygments_lexer": "ipython3",
   "version": "3.12.2"
  }
 },
 "nbformat": 4,
 "nbformat_minor": 5
}
