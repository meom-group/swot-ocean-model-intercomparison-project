{
 "cells": [
  {
   "cell_type": "markdown",
   "id": "971a18fc-e484-46c2-a18d-f26a6ae9fccc",
   "metadata": {},
   "source": [
    "<div style=\"background-color: steelblue; padding: 10px; border-radius: 5px;\">\n",
    "    <p style=\"margin: 10;\"></p>\n",
    "    <h1 style=\"text-align: center; margin: 0; font-weight: bold; color: white;\">SWOT Ocean Model Intercomparison Project : EORCA12-ERA5v1 Test Case</h1>\n",
    "    <p style=\"margin: 10;\"></p>\n",
    "</div>\n",
    "\n"
   ]
  },
  {
   "cell_type": "markdown",
   "id": "9d3e53be-ab8a-41c9-b3f4-a3f17aacfc7d",
   "metadata": {},
   "source": [
    "## 📦**Imports** "
   ]
  },
  {
   "cell_type": "code",
   "execution_count": 1,
   "id": "63a8c831-6e17-4d0e-a7af-9e6bd2b84be6",
   "metadata": {},
   "outputs": [
    {
     "name": "stdout",
     "output_type": "stream",
     "text": [
      "CPU times: user 3.62 s, sys: 610 ms, total: 4.23 s\n",
      "Wall time: 1.69 s\n"
     ]
    }
   ],
   "source": [
    "%%time\n",
    "\n",
    "##################################\n",
    "#Imports\n",
    "\n",
    "from datetime import datetime\n",
    "import s3fs\n",
    "import xarray as xr\n",
    "import pyinterp\n",
    "from widetrax import DataPreprocessing as dp\n",
    "from widetrax import Spectra as sp\n",
    "import numpy as np\n",
    "import json\n",
    "from watermark import watermark\n",
    "import time\n",
    "import platform"
   ]
  },
  {
   "cell_type": "markdown",
   "id": "bc7085b2-0401-4991-8bb7-955739727e86",
   "metadata": {},
   "source": [
    "## 🔍 **Check the S3 Endpoint**  "
   ]
  },
  {
   "cell_type": "code",
   "execution_count": 2,
   "id": "8775da79-d598-40a5-8202-a619a511bdc3",
   "metadata": {},
   "outputs": [
    {
     "name": "stdout",
     "output_type": "stream",
     "text": [
      "Bucket contents:\n",
      "project-moi-swot-omip/GLO36V1/cycle_.keep\n",
      "project-moi-swot-omip/GLO36V1/cycle_008\n",
      "project-moi-swot-omip/GLO36V1/cycle_009\n",
      "project-moi-swot-omip/GLO36V1/cycle_010\n",
      "project-moi-swot-omip/GLO36V1/cycle_011\n",
      "project-moi-swot-omip/GLO36V1/cycle_012\n",
      "project-moi-swot-omip/GLO36V1/cycle_013\n",
      "project-moi-swot-omip/GLO36V1/cycle_014\n",
      "project-moi-swot-omip/GLO36V1/cycle_015\n",
      "project-moi-swot-omip/GLO36V1/cycle_016\n",
      "project-moi-swot-omip/GLO36V1/cycle_017\n",
      "project-moi-swot-omip/GLO36V1/cycle_018\n",
      "project-moi-swot-omip/GLO36V1/cycle_019\n",
      "project-moi-swot-omip/GLO36V1/cycle_020\n",
      "project-moi-swot-omip/GLO36V1/cycle_021\n",
      "project-moi-swot-omip/GLO36V1/cycle_022\n",
      "project-moi-swot-omip/GLO36V1/cycle_023\n",
      "project-moi-swot-omip/GLO36V1/cycle_024\n",
      "project-moi-swot-omip/GLO36V1/cycle_025\n",
      "project-moi-swot-omip/GLO36V1/cycle_026\n"
     ]
    }
   ],
   "source": [
    "s3_folder =\"s3://project-moi-swot-omip/GLO36V1\" # Do not write /!!!!!!\n",
    "endpoint_url =  \"https://minio.dive.edito.eu/\"\n",
    "fs = s3fs.S3FileSystem(anon=True,endpoint_url=endpoint_url)\n",
    "# List contents of the bucket\n",
    "bucket_name = 's3://project-moi-swot-omip/GLO36V1'\n",
    "contents = fs.ls(bucket_name)\n",
    "print(\"Bucket contents:\")\n",
    "for item in contents:\n",
    "    print(item)"
   ]
  },
  {
   "cell_type": "markdown",
   "id": "c6461d2a-173a-4527-bdc3-37cc8eee2d40",
   "metadata": {},
   "source": [
    "## 🧮 **Required variables**"
   ]
  },
  {
   "cell_type": "code",
   "execution_count": 3,
   "id": "87fc6c42-51d5-41ac-8380-559428671ef9",
   "metadata": {},
   "outputs": [],
   "source": [
    "# REGION A\n",
    "\n",
    "name_region=\"Region_B\"\n",
    "season=\"JFM\"\n",
    "\n",
    "if name_region==\"Region_A\":\n",
    "    lon_min = 360-70,\n",
    "    lon_max = 360-60,\n",
    "    lat_min = 32,\n",
    "    lat_max = 42,\n",
    "elif name_region==\"Region_B\":\n",
    "    lon_min = 360-50,\n",
    "    lon_max = 360-40,\n",
    "    lat_min = 17,\n",
    "    lat_max = 27,\n",
    "\n",
    "area = [lon_min, lat_min, lon_max, lat_max]\n",
    "\n",
    "if season==\"JFM\":    \n",
    "    start_date = \"01012024\" # \"DDMMYYYY\"\n",
    "    end_date =\"31032024\"\n",
    "elif season==\"JAS\":\n",
    "    start_date = \"01072024\" # \"DDMMYYYY\"\n",
    "    end_date =\"30092024\""
   ]
  },
  {
   "cell_type": "code",
   "execution_count": 4,
   "id": "c5b86783-5648-4224-9413-d99b1a00fb56",
   "metadata": {},
   "outputs": [
    {
     "data": {
      "text/plain": [
       "'31032024'"
      ]
     },
     "execution_count": 4,
     "metadata": {},
     "output_type": "execute_result"
    }
   ],
   "source": [
    "end_date"
   ]
  },
  {
   "cell_type": "markdown",
   "id": "85c50142-e9eb-4879-b562-78dc52b1857e",
   "metadata": {},
   "source": [
    "## 🔄 **Identify the cycle numbers within the specified time range** "
   ]
  },
  {
   "cell_type": "code",
   "execution_count": 5,
   "id": "6bfcbd8f-13ca-4371-a1bd-30f29d8d3741",
   "metadata": {},
   "outputs": [
    {
     "data": {
      "text/plain": [
       "['008', '009', '010', '011', '012', '013']"
      ]
     },
     "execution_count": 5,
     "metadata": {},
     "output_type": "execute_result"
    }
   ],
   "source": [
    "if season ==\"JFM\":\n",
    "    file_path = \"https://minio.lab.dive.edito.eu/project-meom-ige/cycles_periods.csv\" # works only for winter period\n",
    "elif season ==\"JAS\":\n",
    "    file_path = \"time_ranges.csv\"  # for summer\n",
    "\n",
    "matching_cycles = dp.get_matching_cycles(file_path, start_date, end_date)\n",
    "\n",
    "def formater_numeros_concis(liste_numeros):\n",
    "  return [str(numero).zfill(3) for numero in liste_numeros]\n",
    "    \n",
    "matching_cycles = formater_numeros_concis(matching_cycles)\n",
    "matching_cycles\n"
   ]
  },
  {
   "cell_type": "markdown",
   "id": "a02c66bf-7437-42b6-b29a-907e93036754",
   "metadata": {},
   "source": [
    "## 📊 **Load datasets and compute Wavenumber spectra**"
   ]
  },
  {
   "cell_type": "code",
   "execution_count": 6,
   "id": "371aff62-7090-4981-8e0b-8e5f52fee41a",
   "metadata": {},
   "outputs": [
    {
     "name": "stdout",
     "output_type": "stream",
     "text": [
      "08_505_ included.\n",
      "08_533_ included.\n",
      "08_546_ included.\n",
      "08_561_ included.\n",
      "08_574_ included.\n",
      "09_005_ included.\n",
      "09_018_ included.\n",
      "09_033_ included.\n",
      "09_046_ included.\n",
      "09_074_ included.\n",
      "09_102_ included.\n",
      "09_199_ included.\n",
      "09_227_ included.\n",
      "09_255_ included.\n",
      "09_268_ included.\n",
      "09_283_ included.\n",
      "09_296_ included.\n",
      "09_311_ included.\n",
      "09_324_ included.\n",
      "09_352_ included.\n",
      "09_380_ included.\n",
      "09_505_ included.\n",
      "09_533_ included.\n",
      "09_546_ included.\n",
      "09_561_ included.\n",
      "09_574_ included.\n",
      "10_005_ included.\n",
      "10_018_ included.\n",
      "10_033_ included.\n",
      "10_046_ included.\n",
      "10_074_ included.\n",
      "10_102_ included.\n",
      "10_199_ included.\n",
      "10_227_ included.\n",
      "10_255_ included.\n",
      "10_268_ included.\n",
      "10_283_ included.\n",
      "10_296_ included.\n",
      "10_311_ included.\n",
      "10_324_ included.\n",
      "10_352_ included.\n",
      "10_380_ included.\n",
      "10_505_ included.\n",
      "10_533_ included.\n",
      "10_546_ included.\n",
      "10_561_ included.\n",
      "10_574_ included.\n",
      "11_005_ included.\n",
      "11_018_ included.\n",
      "11_033_ included.\n",
      "11_046_ included.\n",
      "11_074_ included.\n",
      "11_102_ included.\n",
      "11_199_ included.\n",
      "11_227_ included.\n",
      "11_255_ included.\n",
      "11_268_ included.\n",
      "11_283_ included.\n",
      "11_296_ included.\n",
      "11_311_ included.\n",
      "11_324_ included.\n",
      "11_352_ included.\n",
      "11_380_ included.\n",
      "11_505_ included.\n",
      "11_533_ included.\n",
      "11_546_ included.\n",
      "11_561_ included.\n",
      "11_574_ included.\n",
      "12_005_ included.\n",
      "12_018_ included.\n",
      "12_033_ included.\n",
      "12_046_ included.\n",
      "12_074_ included.\n",
      "12_102_ included.\n",
      "12_199_ included.\n",
      "12_227_ included.\n",
      "12_255_ included.\n",
      "12_268_ included.\n",
      "12_283_ included.\n",
      "12_296_ included.\n",
      "12_311_ included.\n",
      "12_324_ included.\n",
      "12_352_ included.\n",
      "12_380_ included.\n",
      "12_505_ included.\n",
      "12_533_ included.\n",
      "12_546_ included.\n",
      "12_574_ included.\n",
      "13_005_ included.\n",
      "13_018_ included.\n",
      "13_033_ included.\n",
      "13_046_ included.\n",
      "13_074_ included.\n",
      "13_102_ included.\n",
      "13_199_ included.\n",
      "13_227_ included.\n",
      "13_255_ included.\n",
      "13_268_ included.\n",
      "13_283_ included.\n",
      "13_296_ included.\n",
      "13_311_ included.\n",
      "13_324_ included.\n",
      "13_352_ included.\n",
      "13_380_ included.\n",
      "13_505_ included.\n",
      "13_533_ included.\n",
      "13_546_ included.\n",
      "13_561_ included.\n",
      "CPU times: user 2min 42s, sys: 1min 21s, total: 4min 4s\n",
      "Wall time: 53min 44s\n"
     ]
    }
   ],
   "source": [
    "%%time\n",
    "\n",
    "# Load datasets into a dictionary\n",
    "datasets_dict = dp.read_swot_ncfiles_S3subfolders(\n",
    "    s3_folder,\n",
    "    matching_cycles,\n",
    "    endpoint_url,\n",
    "    area)"
   ]
  },
  {
   "cell_type": "code",
   "execution_count": 7,
   "id": "dc1511c0-88e9-4837-94b0-79d07bb91f65",
   "metadata": {},
   "outputs": [
    {
     "name": "stdout",
     "output_type": "stream",
     "text": [
      "CPU times: user 3.08 s, sys: 6.92 s, total: 10 s\n",
      "Wall time: 4.29 s\n"
     ]
    }
   ],
   "source": [
    "%%time \n",
    "has_converged, filled_datasets = dp.fill_nan(datasets_dict, varname = \"ssh\")"
   ]
  },
  {
   "cell_type": "code",
   "execution_count": 8,
   "id": "7f9712ff-7a57-4ebf-9435-a596e46216d1",
   "metadata": {},
   "outputs": [
    {
     "name": "stderr",
     "output_type": "stream",
     "text": [
      "/opt/anaconda3/envs/myenv/lib/python3.12/site-packages/widetrax/Spectra.py:43: FutureWarning: The return type of `Dataset.dims` will be changed to return a set of dimension names in future, in order to be more consistent with `DataArray.dims`. To access a mapping from dimension names to lengths, please use `Dataset.sizes`.\n",
      "  for col in range(dataset.dims['num_pixels']):\n"
     ]
    },
    {
     "name": "stdout",
     "output_type": "stream",
     "text": [
      "CPU times: user 268 ms, sys: 4.37 ms, total: 273 ms\n",
      "Wall time: 271 ms\n"
     ]
    }
   ],
   "source": [
    "%%time\n",
    "segments_dict = sp.retrieve_segments(filled_datasets,FileType = \"NetCDF\",namevar=\"ssh\")"
   ]
  },
  {
   "cell_type": "code",
   "execution_count": 9,
   "id": "59ef318b-9264-40a4-9171-5f2b6475e9b3",
   "metadata": {},
   "outputs": [
    {
     "name": "stdout",
     "output_type": "stream",
     "text": [
      "CPU times: user 745 ms, sys: 501 ms, total: 1.25 s\n",
      "Wall time: 4.81 s\n"
     ]
    }
   ],
   "source": [
    "%%time\n",
    "psd_dict, freqs_dict = sp.calculate_psd(segments_dict)\n",
    "# Calculate PSD Mean\n",
    "psd_mean, freqs_mean = sp.psd_mean_and_freq(psd_dict,freqs_dict)"
   ]
  },
  {
   "cell_type": "code",
   "execution_count": 11,
   "id": "b4ecb0d4-7c05-4a2a-93aa-634d1a72e20e",
   "metadata": {},
   "outputs": [
    {
     "data": {
      "text/plain": [
       "array([5.86788547e-02, 1.95864747e+00, 3.24991576e-01, 2.09067938e-01,\n",
       "       1.24619461e-01, 7.82027910e-02, 4.38615983e-02, 3.68700502e-02,\n",
       "       2.59036747e-02, 1.73075587e-02, 1.04160043e-02, 7.28847391e-03,\n",
       "       5.30196995e-03, 4.40389201e-03, 3.51661285e-03, 3.24634471e-03,\n",
       "       2.85842636e-03, 2.50621370e-03, 2.15839174e-03, 1.76178495e-03,\n",
       "       1.16319187e-03, 1.04970524e-03, 8.94301526e-04, 7.15003875e-04,\n",
       "       6.33847228e-04, 5.63264826e-04, 4.86636498e-04, 4.36743816e-04,\n",
       "       3.84836802e-04, 3.16769885e-04, 2.62643784e-04, 2.14454446e-04,\n",
       "       1.99000126e-04, 1.65749082e-04, 1.46644374e-04, 1.41314824e-04,\n",
       "       1.32078779e-04, 1.16701950e-04, 1.07317475e-04, 9.31324023e-05,\n",
       "       7.70374354e-05, 7.01934392e-05, 5.96423461e-05, 5.39673981e-05,\n",
       "       4.75224193e-05, 3.77774437e-05, 3.34696865e-05, 3.25772374e-05,\n",
       "       2.85561685e-05, 2.62755502e-05, 2.42896275e-05, 2.15357951e-05,\n",
       "       2.03869609e-05, 1.80888433e-05, 1.62898552e-05, 1.56320694e-05,\n",
       "       1.45024770e-05, 1.26350075e-05, 1.16276730e-05, 1.09875755e-05,\n",
       "       1.06797853e-05, 9.64140999e-06, 8.70497919e-06, 7.72758117e-06,\n",
       "       6.81678487e-06, 6.94252676e-06, 6.18068338e-06, 5.42650352e-06,\n",
       "       5.08759664e-06, 4.56710260e-06, 4.00054967e-06, 3.56920014e-06,\n",
       "       3.27266654e-06, 3.18088992e-06, 2.80907942e-06, 2.67896262e-06,\n",
       "       2.55323116e-06, 2.27694582e-06, 2.06566010e-06, 1.93580572e-06,\n",
       "       1.79984256e-06, 1.60368077e-06, 1.51688338e-06, 1.43116584e-06,\n",
       "       1.32230447e-06, 1.20879183e-06, 1.13319858e-06, 1.00532160e-06,\n",
       "       9.44808141e-07, 9.14252409e-07, 8.33148433e-07, 7.80045189e-07,\n",
       "       7.24700061e-07, 6.57184747e-07, 6.53136804e-07, 6.07175303e-07,\n",
       "       5.58171868e-07, 5.11276355e-07, 4.73109395e-07, 4.57535483e-07,\n",
       "       4.39801343e-07, 3.86915229e-07, 3.64473091e-07, 3.34051161e-07,\n",
       "       3.13094928e-07, 2.91045675e-07, 2.62638718e-07, 2.32210009e-07,\n",
       "       2.28485362e-07, 2.25546365e-07, 2.24481428e-07, 1.99517711e-07,\n",
       "       1.73601095e-07, 1.69661405e-07, 1.60792508e-07, 1.52631964e-07,\n",
       "       1.49601469e-07, 1.42300222e-07, 1.29379544e-07, 1.16312590e-07,\n",
       "       1.12768510e-07, 1.14423508e-07, 1.09966707e-07, 9.88696878e-08,\n",
       "       9.58820704e-08, 9.25142608e-08, 8.87681127e-08, 8.44785117e-08,\n",
       "       7.95600085e-08, 7.62319430e-08, 7.25385948e-08, 7.32021597e-08,\n",
       "       6.76107152e-08, 6.60720526e-08, 6.05636599e-08, 5.94539792e-08,\n",
       "       5.68726549e-08, 5.57685008e-08, 5.53800904e-08, 5.51921164e-08,\n",
       "       5.40972813e-08, 5.12146428e-08, 4.75377812e-08, 4.50172460e-08,\n",
       "       4.33950830e-08, 4.27012274e-08, 4.24890986e-08, 4.20241832e-08,\n",
       "       4.14011368e-08, 4.02471199e-08, 3.96709560e-08, 3.90939576e-08,\n",
       "       3.77811641e-08, 3.63311792e-08, 3.59377550e-08, 3.47670911e-08,\n",
       "       3.55583593e-08, 3.45371397e-08, 3.26711530e-08, 3.15170964e-08,\n",
       "       3.16514017e-08, 3.02878542e-08, 2.93763612e-08, 2.87895589e-08,\n",
       "       2.86345092e-08, 2.78405558e-08, 2.71109646e-08, 2.61366151e-08,\n",
       "       2.54137967e-08, 2.47581460e-08, 2.39531471e-08, 2.36765593e-08,\n",
       "       2.28022296e-08, 2.19266847e-08, 2.21582808e-08, 2.17699228e-08,\n",
       "       2.11675644e-08, 2.14978313e-08, 2.09814855e-08, 2.10802572e-08,\n",
       "       2.08828653e-08, 2.09914438e-08, 2.13475382e-08, 2.10835761e-08,\n",
       "       2.21424306e-08, 2.32196025e-08, 2.31555320e-08, 2.34576907e-08,\n",
       "       2.36277743e-08, 2.41819303e-08, 2.62133390e-08, 2.67332993e-08,\n",
       "       2.61226338e-08, 2.74506169e-08, 2.86749439e-08, 2.81800127e-08,\n",
       "       2.86690900e-08, 2.92384077e-08, 2.99058238e-08, 2.92816182e-08,\n",
       "       2.92649663e-08, 2.81158294e-08, 2.97611535e-08, 3.13362063e-08,\n",
       "       3.21708253e-08, 3.07800215e-08, 2.89839355e-08, 2.87310254e-08,\n",
       "       2.94333883e-08, 2.95959443e-08, 3.01822304e-08, 3.12594808e-08,\n",
       "       2.99994710e-08, 3.09510366e-08, 3.04980152e-08, 3.01591633e-08,\n",
       "       2.95269429e-08, 2.88515968e-08, 3.06434553e-08, 3.06831408e-08,\n",
       "       3.05374674e-08, 2.95867702e-08, 2.86544416e-08, 2.85031281e-08,\n",
       "       2.79136766e-08, 2.79014447e-08, 2.82765821e-08, 2.68738771e-08,\n",
       "       2.81961208e-08, 2.82440083e-08, 2.69159916e-08, 2.67152288e-08,\n",
       "       2.71063186e-08, 2.76898187e-08, 2.77841026e-08, 2.72616049e-08,\n",
       "       2.67405404e-08, 2.60301375e-08, 2.60378639e-08, 2.65706829e-08,\n",
       "       2.69037549e-08, 2.66209107e-08, 2.63902922e-08, 2.56401908e-08,\n",
       "       2.53925223e-08, 2.51431382e-08, 2.45968597e-08, 2.49713639e-08,\n",
       "       2.51142595e-08, 2.47427477e-08, 2.44218069e-08, 2.44019028e-08,\n",
       "       2.43616801e-08, 2.49234099e-08, 2.39957786e-08, 2.31744357e-08,\n",
       "       2.33616202e-08, 2.40137308e-08, 2.36848786e-08, 2.40306147e-08,\n",
       "       2.36613839e-08, 2.27465125e-08, 2.30672681e-08, 2.38433332e-08,\n",
       "       2.39709941e-08, 2.34687270e-08, 2.29712692e-08, 2.26997935e-08,\n",
       "       2.31298828e-08, 2.29124696e-08, 2.34198799e-08, 2.32323797e-08,\n",
       "       2.25457539e-08, 2.19149047e-08, 2.15020750e-08, 2.20342605e-08,\n",
       "       2.31842957e-08, 2.36527868e-08, 2.27182732e-08, 2.23200753e-08,\n",
       "       2.20041451e-08, 2.23072113e-08, 2.11953727e-08, 2.09894752e-08,\n",
       "       2.10492428e-08, 2.16889627e-08, 2.22457930e-08, 1.12599022e-08])"
      ]
     },
     "execution_count": 11,
     "metadata": {},
     "output_type": "execute_result"
    }
   ],
   "source": [
    "psd_mean"
   ]
  },
  {
   "cell_type": "markdown",
   "id": "f60c3776-1df4-4bbb-abd7-20dde44c01b3",
   "metadata": {},
   "source": [
    "## 💾 **Save Results and Information in JSON File**"
   ]
  },
  {
   "cell_type": "code",
   "execution_count": 12,
   "id": "1b7c4e9e-0a0c-4903-97e2-345248d4350c",
   "metadata": {},
   "outputs": [
    {
     "name": "stdout",
     "output_type": "stream",
     "text": [
      "JSON file created\n"
     ]
    }
   ],
   "source": [
    "# Infos\n",
    "nom_region = name_region\n",
    "model = \"GLO36V1\"\n",
    "name_season = season\n",
    "freqs_mean = np.array(freqs_mean)\n",
    "psd_mean = np.array(psd_mean)\n",
    "todays_Date = datetime.now()\n",
    "date_creation = todays_Date.isoformat() #ISO 8601 format\n",
    "packages_versions = watermark(packages=\"numpy,widetrax,xarray,s3fs,pyinterp,datetime,json,platform,time\")\n",
    "machine_info = {\n",
    "    \"system\": platform.system(),\n",
    "    \"node_name\": platform.node(),\n",
    "    \"release\": platform.release(),\n",
    "    \"version\": platform.version(),\n",
    "    \"machine\": platform.machine(),\n",
    "    \"processor\": platform.processor(),\n",
    "    \"python_version\": platform.python_version()\n",
    "}\n",
    "\n",
    "# JSON file structure\n",
    "donnees = {\n",
    "    \"region\": nom_region,\n",
    "    \"model\": model,\n",
    "    \"lon_min\": lon_min,\n",
    "    \"lon_max\": lon_max,\n",
    "    \"lat_min\": lat_min,\n",
    "    \"lat_max\": lat_max,\n",
    "    \"start_date\": datetime.strptime(start_date, \"%d%m%Y\").strftime(\"%Y-%m-%d\"),\n",
    "    \"end_date\": datetime.strptime(end_date, \"%d%m%Y\").strftime(\"%Y-%m-%d\"),\n",
    "    \"packages_versions\": packages_versions,\n",
    "    \"date_creation\": date_creation,\n",
    "    \"login_creator\": platform.node(),\n",
    "    \"Frequency\": freqs_mean.tolist(),\n",
    "    \"Spectra\": psd_mean.tolist(),\n",
    "    \"machine_info\": machine_info\n",
    "}\n",
    "\n",
    "# Save on JSON file\n",
    "with open(str(nom_region)+\"_\"+str(name_season)+\"_\"+str(model)+\".json\", \"w\", encoding=\"utf-8\") as f:\n",
    "    json.dump(donnees, f, ensure_ascii=False, indent=4)\n",
    "#with open(\"OMIP_\"+str(model)+\"_\"+str(nom_region)+\"_\"+str(name_season)+\".json\", \"w\", encoding=\"utf-8\") as f:\n",
    "  #  json.dump(donnees, f, ensure_ascii=False, indent=4)\n",
    "\n",
    "#<region>-<period>-<data-source>.json\n",
    "print(\"JSON file created\")"
   ]
  },
  {
   "cell_type": "markdown",
   "id": "ceb9ff90-2512-4064-a967-277ade24e123",
   "metadata": {},
   "source": [
    "## 📤 **Export Results to the S3 Endpoint** "
   ]
  },
  {
   "cell_type": "code",
   "execution_count": 13,
   "id": "f16ad42b-62d6-4dd0-a4a9-73832c777f1c",
   "metadata": {},
   "outputs": [],
   "source": [
    "fs = s3fs.S3FileSystem( anon=True, endpoint_url=\"https://minio.lab.dive.edito.eu\", use_ssl=False ) "
   ]
  },
  {
   "cell_type": "code",
   "execution_count": 14,
   "id": "28f11812-7154-4c0d-9fe2-43fdb36b2b94",
   "metadata": {},
   "outputs": [
    {
     "data": {
      "text/plain": [
       "[None]"
      ]
     },
     "execution_count": 14,
     "metadata": {},
     "output_type": "execute_result"
    }
   ],
   "source": [
    "json_file = str(nom_region)+\"_\"+str(name_season)+\"_\"+str(model)+\".json\"\n",
    "fs.put(json_file, \"project-meom-ige/OMIP/\")"
   ]
  },
  {
   "cell_type": "code",
   "execution_count": 17,
   "id": "3ca414dc-e295-40ba-8e16-162ae2bde72c",
   "metadata": {},
   "outputs": [
    {
     "data": {
      "text/plain": [
       "<s3fs.core.S3FileSystem at 0x174e6a720>"
      ]
     },
     "execution_count": 17,
     "metadata": {},
     "output_type": "execute_result"
    }
   ],
   "source": [
    "fs"
   ]
  }
 ],
 "metadata": {
  "kernelspec": {
   "display_name": "Python 3 (ipykernel)",
   "language": "python",
   "name": "python3"
  },
  "language_info": {
   "codemirror_mode": {
    "name": "ipython",
    "version": 3
   },
   "file_extension": ".py",
   "mimetype": "text/x-python",
   "name": "python",
   "nbconvert_exporter": "python",
   "pygments_lexer": "ipython3",
   "version": "3.12.2"
  }
 },
 "nbformat": 4,
 "nbformat_minor": 5
}
