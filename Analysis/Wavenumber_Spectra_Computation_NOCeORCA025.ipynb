{
 "cells": [
  {
   "cell_type": "markdown",
   "id": "971a18fc-e484-46c2-a18d-f26a6ae9fccc",
   "metadata": {},
   "source": [
    "<div style=\"background-color: steelblue; padding: 10px; border-radius: 5px;\">\n",
    "    <p style=\"margin: 10;\"></p>\n",
    "    <h1 style=\"text-align: center; margin: 0; font-weight: bold; color: white;\">SWOT Ocean Model Intercomparison Project : EORCA12-ERA5v1 Test Case</h1>\n",
    "    <p style=\"margin: 10;\"></p>\n",
    "</div>\n",
    "\n"
   ]
  },
  {
   "cell_type": "markdown",
   "id": "9d3e53be-ab8a-41c9-b3f4-a3f17aacfc7d",
   "metadata": {},
   "source": [
    "## 📦**Imports** "
   ]
  },
  {
   "cell_type": "code",
   "execution_count": 1,
   "id": "63a8c831-6e17-4d0e-a7af-9e6bd2b84be6",
   "metadata": {},
   "outputs": [
    {
     "name": "stdout",
     "output_type": "stream",
     "text": [
      "CPU times: user 1.71 s, sys: 2.65 s, total: 4.36 s\n",
      "Wall time: 1.73 s\n"
     ]
    }
   ],
   "source": [
    "%%time\n",
    "\n",
    "##################################\n",
    "#Imports\n",
    "\n",
    "from datetime import datetime\n",
    "import s3fs\n",
    "import xarray as xr\n",
    "import pyinterp\n",
    "from widetrax import DataPreprocessing as dp\n",
    "from widetrax import Spectra as sp\n",
    "import numpy as np\n",
    "import json\n",
    "from watermark import watermark\n",
    "import time\n",
    "import platform"
   ]
  },
  {
   "cell_type": "markdown",
   "id": "bc7085b2-0401-4991-8bb7-955739727e86",
   "metadata": {},
   "source": [
    "## 🔍 **Check the S3 Endpoint**  "
   ]
  },
  {
   "cell_type": "code",
   "execution_count": 2,
   "id": "8775da79-d598-40a5-8202-a619a511bdc3",
   "metadata": {},
   "outputs": [
    {
     "name": "stdout",
     "output_type": "stream",
     "text": [
      "Bucket contents:\n",
      "npd-eorca025-era5v1-swot-omip/cycle_008\n",
      "npd-eorca025-era5v1-swot-omip/cycle_009\n",
      "npd-eorca025-era5v1-swot-omip/cycle_010\n",
      "npd-eorca025-era5v1-swot-omip/cycle_011\n",
      "npd-eorca025-era5v1-swot-omip/cycle_012\n",
      "npd-eorca025-era5v1-swot-omip/cycle_013\n",
      "npd-eorca025-era5v1-swot-omip/cycle_014\n",
      "npd-eorca025-era5v1-swot-omip/cycle_015\n",
      "npd-eorca025-era5v1-swot-omip/cycle_016\n",
      "npd-eorca025-era5v1-swot-omip/cycle_017\n",
      "npd-eorca025-era5v1-swot-omip/cycle_018\n",
      "npd-eorca025-era5v1-swot-omip/cycle_019\n",
      "npd-eorca025-era5v1-swot-omip/cycle_020\n",
      "npd-eorca025-era5v1-swot-omip/cycle_021\n",
      "npd-eorca025-era5v1-swot-omip/cycle_022\n",
      "npd-eorca025-era5v1-swot-omip/cycle_023\n",
      "npd-eorca025-era5v1-swot-omip/cycle_024\n",
      "npd-eorca025-era5v1-swot-omip/cycle_025\n",
      "npd-eorca025-era5v1-swot-omip/cycle_026\n"
     ]
    }
   ],
   "source": [
    "s3_folder =\"s3://npd-eorca025-era5v1-swot-omip\"\n",
    "endpoint_url =  \"https://noc-msm-o.s3-ext.jc.rl.ac.uk\"\n",
    "fs = s3fs.S3FileSystem(anon=True,endpoint_url=endpoint_url)\n",
    "# List contents of the bucket\n",
    "bucket_name = 's3://npd-eorca025-era5v1-swot-omip'\n",
    "contents = fs.ls(bucket_name)\n",
    "print(\"Bucket contents:\")\n",
    "for item in contents:\n",
    "    print(item)"
   ]
  },
  {
   "cell_type": "markdown",
   "id": "c6461d2a-173a-4527-bdc3-37cc8eee2d40",
   "metadata": {},
   "source": [
    "## 🧮 **Required variables**"
   ]
  },
  {
   "cell_type": "code",
   "execution_count": 3,
   "id": "87fc6c42-51d5-41ac-8380-559428671ef9",
   "metadata": {},
   "outputs": [],
   "source": [
    "# REGION A\n",
    "\n",
    "name_region=\"Region_B\"\n",
    "season=\"JFM\"\n",
    "\n",
    "if name_region==\"Region_A\":\n",
    "    lon_min = 360-70,\n",
    "    lon_max = 360-60,\n",
    "    lat_min = 32,\n",
    "    lat_max = 42,\n",
    "elif name_region==\"Region_B\":\n",
    "    lon_min = 360-50,\n",
    "    lon_max = 360-40,\n",
    "    lat_min = 17,\n",
    "    lat_max = 27,\n",
    "\n",
    "area = [lon_min, lat_min, lon_max, lat_max]\n",
    "\n",
    "if season==\"JFM\":    \n",
    "    start_date = \"01012024\" # \"DDMMYYYY\"\n",
    "    end_date =\"31032024\"\n",
    "elif season==\"JAS\":\n",
    "    start_date = \"01072024\" # \"DDMMYYYY\"\n",
    "    end_date =\"30092024\""
   ]
  },
  {
   "cell_type": "code",
   "execution_count": 4,
   "id": "c5b86783-5648-4224-9413-d99b1a00fb56",
   "metadata": {},
   "outputs": [
    {
     "data": {
      "text/plain": [
       "'30092024'"
      ]
     },
     "execution_count": 4,
     "metadata": {},
     "output_type": "execute_result"
    }
   ],
   "source": [
    "end_date"
   ]
  },
  {
   "cell_type": "markdown",
   "id": "85c50142-e9eb-4879-b562-78dc52b1857e",
   "metadata": {},
   "source": [
    "## 🔄 **Identify the cycle numbers within the specified time range** "
   ]
  },
  {
   "cell_type": "code",
   "execution_count": 4,
   "id": "6bfcbd8f-13ca-4371-a1bd-30f29d8d3741",
   "metadata": {},
   "outputs": [
    {
     "data": {
      "text/plain": [
       "['008', '009', '010', '011', '012', '013']"
      ]
     },
     "execution_count": 4,
     "metadata": {},
     "output_type": "execute_result"
    }
   ],
   "source": [
    "if season ==\"JFM\":\n",
    "    file_path = \"https://minio.lab.dive.edito.eu/project-meom-ige/cycles_periods.csv\" # works only for winter period\n",
    "elif season ==\"JAS\":\n",
    "    file_path = \"time_ranges.csv\"  # for summer\n",
    "\n",
    "matching_cycles = dp.get_matching_cycles(file_path, start_date, end_date)\n",
    "\n",
    "def formater_numeros_concis(liste_numeros):\n",
    "  return [str(numero).zfill(3) for numero in liste_numeros]\n",
    "    \n",
    "matching_cycles = formater_numeros_concis(matching_cycles)\n",
    "matching_cycles\n"
   ]
  },
  {
   "cell_type": "markdown",
   "id": "a02c66bf-7437-42b6-b29a-907e93036754",
   "metadata": {},
   "source": [
    "## 📊 **Load datasets and compute Wavenumber spectra**"
   ]
  },
  {
   "cell_type": "code",
   "execution_count": 5,
   "id": "371aff62-7090-4981-8e0b-8e5f52fee41a",
   "metadata": {},
   "outputs": [
    {
     "name": "stdout",
     "output_type": "stream",
     "text": [
      "SSH_008 included.\n",
      "SSH_008 included.\n",
      "SSH_008 included.\n",
      "SSH_008 included.\n",
      "SSH_008 included.\n",
      "SSH_009 included.\n",
      "SSH_009 included.\n",
      "SSH_009 included.\n",
      "SSH_009 included.\n",
      "SSH_009 included.\n",
      "SSH_009 included.\n",
      "SSH_009 included.\n",
      "SSH_009 included.\n",
      "SSH_009 included.\n",
      "SSH_009 included.\n",
      "SSH_009 included.\n",
      "SSH_009 included.\n",
      "SSH_009 included.\n",
      "SSH_009 included.\n",
      "SSH_009 included.\n",
      "SSH_009 included.\n",
      "SSH_009 included.\n",
      "SSH_009 included.\n",
      "SSH_009 included.\n",
      "SSH_009 included.\n",
      "SSH_009 included.\n",
      "SSH_010 included.\n",
      "SSH_010 included.\n",
      "SSH_010 included.\n",
      "SSH_010 included.\n",
      "SSH_010 included.\n",
      "SSH_010 included.\n",
      "SSH_010 included.\n",
      "SSH_010 included.\n",
      "SSH_010 included.\n",
      "SSH_010 included.\n",
      "SSH_010 included.\n",
      "SSH_010 included.\n",
      "SSH_010 included.\n",
      "SSH_010 included.\n",
      "SSH_010 included.\n",
      "SSH_010 included.\n",
      "SSH_010 included.\n",
      "SSH_010 included.\n",
      "SSH_010 included.\n",
      "SSH_010 included.\n",
      "SSH_010 included.\n",
      "SSH_011 included.\n",
      "SSH_011 included.\n",
      "SSH_011 included.\n",
      "SSH_011 included.\n",
      "SSH_011 included.\n",
      "SSH_011 included.\n",
      "SSH_011 included.\n",
      "SSH_011 included.\n",
      "SSH_011 included.\n",
      "SSH_011 included.\n",
      "SSH_011 included.\n",
      "SSH_011 included.\n",
      "SSH_011 included.\n",
      "SSH_011 included.\n",
      "SSH_011 included.\n",
      "SSH_011 included.\n",
      "SSH_011 included.\n",
      "SSH_011 included.\n",
      "SSH_011 included.\n",
      "SSH_011 included.\n",
      "SSH_011 included.\n",
      "SSH_012 included.\n",
      "SSH_012 included.\n",
      "SSH_012 included.\n",
      "SSH_012 included.\n",
      "SSH_012 included.\n",
      "SSH_012 included.\n",
      "SSH_012 included.\n",
      "SSH_012 included.\n",
      "SSH_012 included.\n",
      "SSH_012 included.\n",
      "SSH_012 included.\n",
      "SSH_012 included.\n",
      "SSH_012 included.\n",
      "SSH_012 included.\n",
      "SSH_012 included.\n",
      "SSH_012 included.\n",
      "SSH_012 included.\n",
      "SSH_012 included.\n",
      "SSH_012 included.\n",
      "SSH_012 included.\n",
      "SSH_013 included.\n",
      "SSH_013 included.\n",
      "SSH_013 included.\n",
      "SSH_013 included.\n",
      "SSH_013 included.\n",
      "SSH_013 included.\n",
      "SSH_013 included.\n",
      "SSH_013 included.\n",
      "SSH_013 included.\n",
      "SSH_013 included.\n",
      "SSH_013 included.\n",
      "SSH_013 included.\n",
      "SSH_013 included.\n",
      "SSH_013 included.\n",
      "SSH_013 included.\n",
      "SSH_013 included.\n",
      "SSH_013 included.\n",
      "SSH_013 included.\n",
      "SSH_013 included.\n",
      "SSH_013 included.\n",
      "CPU times: user 8min, sys: 4min 52s, total: 12min 52s\n",
      "Wall time: 1h 6min 4s\n"
     ]
    }
   ],
   "source": [
    "%%time\n",
    "\n",
    "# Load datasets into a dictionary\n",
    "datasets_dict = dp.read_swot_ncfiles_S3subfolders(\n",
    "    s3_folder,\n",
    "    matching_cycles,\n",
    "    endpoint_url,\n",
    "    area)"
   ]
  },
  {
   "cell_type": "code",
   "execution_count": 6,
   "id": "dc1511c0-88e9-4837-94b0-79d07bb91f65",
   "metadata": {},
   "outputs": [
    {
     "name": "stdout",
     "output_type": "stream",
     "text": [
      "CPU times: user 2.42 s, sys: 5.02 s, total: 7.44 s\n",
      "Wall time: 3.2 s\n"
     ]
    }
   ],
   "source": [
    "%%time \n",
    "has_converged, filled_datasets = dp.fill_nan(datasets_dict, varname = \"ssh\")"
   ]
  },
  {
   "cell_type": "code",
   "execution_count": 7,
   "id": "7f9712ff-7a57-4ebf-9435-a596e46216d1",
   "metadata": {},
   "outputs": [
    {
     "name": "stderr",
     "output_type": "stream",
     "text": [
      "/opt/anaconda3/envs/myenv/lib/python3.12/site-packages/widetrax/Spectra.py:43: FutureWarning: The return type of `Dataset.dims` will be changed to return a set of dimension names in future, in order to be more consistent with `DataArray.dims`. To access a mapping from dimension names to lengths, please use `Dataset.sizes`.\n",
      "  for col in range(dataset.dims['num_pixels']):\n"
     ]
    },
    {
     "name": "stdout",
     "output_type": "stream",
     "text": [
      "CPU times: user 276 ms, sys: 4.07 ms, total: 280 ms\n",
      "Wall time: 278 ms\n"
     ]
    }
   ],
   "source": [
    "%%time\n",
    "segments_dict = sp.retrieve_segments(filled_datasets,FileType = \"NetCDF\",namevar=\"ssh\")"
   ]
  },
  {
   "cell_type": "code",
   "execution_count": 8,
   "id": "59ef318b-9264-40a4-9171-5f2b6475e9b3",
   "metadata": {},
   "outputs": [
    {
     "name": "stdout",
     "output_type": "stream",
     "text": [
      "CPU times: user 657 ms, sys: 476 ms, total: 1.13 s\n",
      "Wall time: 4.53 s\n"
     ]
    }
   ],
   "source": [
    "%%time\n",
    "psd_dict, freqs_dict = sp.calculate_psd(segments_dict)\n",
    "# Calculate PSD Mean\n",
    "psd_mean, freqs_mean = sp.psd_mean_and_freq(psd_dict,freqs_dict)"
   ]
  },
  {
   "cell_type": "code",
   "execution_count": 9,
   "id": "b4ecb0d4-7c05-4a2a-93aa-634d1a72e20e",
   "metadata": {},
   "outputs": [
    {
     "data": {
      "text/plain": [
       "array([2.90501928e-02, 1.28784503e-01, 1.12117076e-01, 7.40979251e-02,\n",
       "       2.50792340e-02, 6.38721167e-03, 2.44570150e-03, 1.36745831e-03,\n",
       "       6.01374193e-04, 2.91431306e-04, 1.33074761e-04, 7.29309005e-05,\n",
       "       3.14586169e-05, 1.68042002e-05, 8.82484098e-06, 4.94108518e-06,\n",
       "       3.04940899e-06, 1.90974759e-06, 2.07088305e-06, 1.55625287e-06,\n",
       "       1.29563829e-06, 1.92973695e-06, 2.00487551e-06, 1.16486339e-06,\n",
       "       1.59570583e-06, 1.83668933e-06, 1.83205688e-06, 2.25992575e-06,\n",
       "       2.31818711e-06, 2.21114654e-06, 2.59672486e-06, 3.00650324e-06,\n",
       "       3.56530186e-06, 5.41246377e-06, 7.98277479e-06, 9.15481814e-06,\n",
       "       9.24248220e-06, 9.68431596e-06, 1.07775185e-05, 1.46954055e-05,\n",
       "       2.49890291e-05, 3.37316966e-05, 2.83825342e-05, 1.48478872e-05,\n",
       "       5.89269119e-06, 5.58743870e-06, 1.25532659e-05, 1.81020185e-05,\n",
       "       1.21491532e-05, 8.18283619e-06, 6.00349119e-06, 3.38448200e-06,\n",
       "       2.08797227e-06, 1.74886394e-06, 1.82890847e-06, 1.47493781e-06,\n",
       "       8.61605964e-07, 6.96253860e-07, 6.50738878e-07, 5.75703211e-07,\n",
       "       5.76782289e-07, 5.59796576e-07, 5.25121295e-07, 4.31718785e-07,\n",
       "       3.58734595e-07, 3.15425194e-07, 2.40981287e-07, 1.69230490e-07,\n",
       "       1.43297694e-07, 1.61279231e-07, 1.99944500e-07, 2.48515048e-07,\n",
       "       2.36791607e-07, 2.05345107e-07, 1.83894452e-07, 2.14870014e-07,\n",
       "       2.89109113e-07, 3.84212482e-07, 4.94810218e-07, 4.85235994e-07,\n",
       "       3.96468308e-07, 3.43763759e-07, 4.38890654e-07, 6.44542879e-07,\n",
       "       5.95619379e-07, 3.53720458e-07, 3.08029933e-07, 2.53676536e-07,\n",
       "       2.00983625e-07, 2.48226991e-07, 4.06922793e-07, 5.85859703e-07,\n",
       "       6.11433470e-07, 5.61027882e-07, 4.96188735e-07, 3.61106045e-07,\n",
       "       3.11760430e-07, 4.25004591e-07, 6.18942725e-07, 6.03360893e-07,\n",
       "       4.22261844e-07, 3.11114842e-07, 2.38433691e-07, 1.84233157e-07,\n",
       "       1.54538106e-07, 1.62778584e-07, 1.74349917e-07, 1.92810857e-07,\n",
       "       1.99174884e-07, 1.82369468e-07, 1.69297999e-07, 1.62747845e-07,\n",
       "       1.64305828e-07, 1.46382638e-07, 1.00179210e-07, 7.94184317e-08,\n",
       "       8.15313831e-08, 8.50837585e-08, 1.00870549e-07, 1.15518704e-07,\n",
       "       1.27048975e-07, 1.40657734e-07, 1.66988172e-07, 1.51765914e-07,\n",
       "       1.23283259e-07, 1.02292720e-07, 1.06992849e-07, 1.27904931e-07,\n",
       "       1.28900888e-07, 1.09145747e-07, 1.02879650e-07, 1.02533767e-07,\n",
       "       1.11229674e-07, 1.28247968e-07, 1.40664936e-07, 1.47248780e-07,\n",
       "       1.58214368e-07, 1.61372748e-07, 1.45977067e-07, 1.24401516e-07,\n",
       "       1.16067387e-07, 1.11764684e-07, 1.34486123e-07, 1.25165019e-07,\n",
       "       1.12860635e-07, 1.02109872e-07, 9.95930958e-08, 9.86554667e-08,\n",
       "       1.04504896e-07, 1.21177750e-07, 1.31311215e-07, 1.34394970e-07,\n",
       "       1.39034051e-07, 1.44166246e-07, 1.39653806e-07, 1.23890200e-07,\n",
       "       1.18896777e-07, 1.42055287e-07, 1.28732378e-07, 1.06634429e-07,\n",
       "       8.35413965e-08, 7.03591920e-08, 6.42029861e-08, 6.02562963e-08,\n",
       "       6.22405278e-08, 6.23218943e-08, 6.28896010e-08, 7.06592529e-08,\n",
       "       8.58461319e-08, 1.09595472e-07, 1.37122946e-07, 1.79738709e-07,\n",
       "       2.20612935e-07, 2.52575050e-07, 2.59777230e-07, 2.31258798e-07,\n",
       "       2.26533882e-07, 2.26718507e-07, 2.60520879e-07, 3.19589045e-07,\n",
       "       2.37814514e-07, 1.50542508e-07, 1.14616067e-07, 1.03038050e-07,\n",
       "       7.78578645e-08, 6.57765081e-08, 6.40745720e-08, 6.39177502e-08,\n",
       "       6.68320083e-08, 7.10640282e-08, 6.98569500e-08, 6.92707452e-08,\n",
       "       6.72938096e-08, 6.50106617e-08, 6.26361577e-08, 5.38152658e-08,\n",
       "       4.76143592e-08, 4.69122150e-08, 4.94946420e-08, 5.27305805e-08,\n",
       "       5.60721614e-08, 5.94193322e-08, 6.33755233e-08, 6.86575210e-08,\n",
       "       7.49724650e-08, 7.73582506e-08, 8.01141241e-08, 7.99294306e-08,\n",
       "       8.04495852e-08, 8.47901474e-08, 8.45195828e-08, 8.26847880e-08,\n",
       "       8.43030493e-08, 8.90217287e-08, 9.09757480e-08, 9.21594828e-08,\n",
       "       9.68025650e-08, 1.03770003e-07, 1.06931460e-07, 1.03830224e-07,\n",
       "       1.03670030e-07, 1.04919308e-07, 9.98878017e-08, 8.82727703e-08,\n",
       "       8.15706514e-08, 7.99782515e-08, 7.75272654e-08, 7.35496678e-08,\n",
       "       7.20082442e-08, 6.54448855e-08, 5.75357377e-08, 5.30495129e-08,\n",
       "       4.81411985e-08, 4.59859691e-08, 4.39389671e-08, 4.27893236e-08,\n",
       "       4.18378389e-08, 4.03375837e-08, 3.93217570e-08, 3.96015186e-08,\n",
       "       4.05108364e-08, 4.26830380e-08, 4.26434620e-08, 4.31094875e-08,\n",
       "       4.53491869e-08, 4.79733720e-08, 4.90457904e-08, 5.11547171e-08,\n",
       "       5.45213905e-08, 5.93580237e-08, 6.53455084e-08, 6.70542333e-08,\n",
       "       6.99308773e-08, 7.94801373e-08, 8.64865171e-08, 8.75614420e-08,\n",
       "       9.07532618e-08, 1.02154024e-07, 1.13837353e-07, 1.15880874e-07,\n",
       "       1.20759651e-07, 1.17049005e-07, 1.10876746e-07, 1.14441948e-07,\n",
       "       1.25680594e-07, 1.25717386e-07, 1.11661966e-07, 1.14685486e-07,\n",
       "       1.17941530e-07, 1.02319540e-07, 8.88806365e-08, 8.70526880e-08,\n",
       "       8.73532683e-08, 7.79834557e-08, 6.83274690e-08, 6.44348967e-08,\n",
       "       5.90236294e-08, 5.47935898e-08, 4.97541409e-08, 4.65021571e-08,\n",
       "       4.10166909e-08, 3.59206684e-08, 3.44979496e-08, 3.17583780e-08,\n",
       "       2.99042190e-08, 2.95843412e-08, 2.82055214e-08, 1.42341019e-08])"
      ]
     },
     "execution_count": 9,
     "metadata": {},
     "output_type": "execute_result"
    }
   ],
   "source": [
    "psd_mean"
   ]
  },
  {
   "cell_type": "markdown",
   "id": "f60c3776-1df4-4bbb-abd7-20dde44c01b3",
   "metadata": {},
   "source": [
    "## 💾 **Save Results and Information in JSON File**"
   ]
  },
  {
   "cell_type": "code",
   "execution_count": 10,
   "id": "1b7c4e9e-0a0c-4903-97e2-345248d4350c",
   "metadata": {},
   "outputs": [
    {
     "name": "stdout",
     "output_type": "stream",
     "text": [
      "JSON file created\n"
     ]
    }
   ],
   "source": [
    "# Infos\n",
    "nom_region = name_region\n",
    "model = \"NOC-eORCA025\"\n",
    "name_season = season\n",
    "freqs_mean = np.array(freqs_mean)\n",
    "psd_mean = np.array(psd_mean)\n",
    "todays_Date = datetime.now()\n",
    "date_creation = todays_Date.isoformat() #ISO 8601 format\n",
    "packages_versions = watermark(packages=\"numpy,widetrax,xarray,s3fs,pyinterp,datetime,json,platform,time\")\n",
    "machine_info = {\n",
    "    \"system\": platform.system(),\n",
    "    \"node_name\": platform.node(),\n",
    "    \"release\": platform.release(),\n",
    "    \"version\": platform.version(),\n",
    "    \"machine\": platform.machine(),\n",
    "    \"processor\": platform.processor(),\n",
    "    \"python_version\": platform.python_version()\n",
    "}\n",
    "\n",
    "# JSON file structure\n",
    "donnees = {\n",
    "    \"region\": nom_region,\n",
    "    \"model\": model,\n",
    "    \"lon_min\": lon_min,\n",
    "    \"lon_max\": lon_max,\n",
    "    \"lat_min\": lat_min,\n",
    "    \"lat_max\": lat_max,\n",
    "    \"start_date\": datetime.strptime(start_date, \"%d%m%Y\").strftime(\"%Y-%m-%d\"),\n",
    "    \"end_date\": datetime.strptime(end_date, \"%d%m%Y\").strftime(\"%Y-%m-%d\"),\n",
    "    \"packages_versions\": packages_versions,\n",
    "    \"date_creation\": date_creation,\n",
    "    \"login_creator\": platform.node(),\n",
    "    \"Frequency\": freqs_mean.tolist(),\n",
    "    \"Spectra\": psd_mean.tolist(),\n",
    "    \"machine_info\": machine_info\n",
    "}\n",
    "\n",
    "# Save on JSON file\n",
    "with open(str(nom_region)+\"_\"+str(name_season)+\"_\"+str(model)+\".json\", \"w\", encoding=\"utf-8\") as f:\n",
    "    json.dump(donnees, f, ensure_ascii=False, indent=4)\n",
    "#with open(\"OMIP_\"+str(model)+\"_\"+str(nom_region)+\"_\"+str(name_season)+\".json\", \"w\", encoding=\"utf-8\") as f:\n",
    "  #  json.dump(donnees, f, ensure_ascii=False, indent=4)\n",
    "\n",
    "#<region>-<period>-<data-source>.json\n",
    "print(\"JSON file created\")"
   ]
  },
  {
   "cell_type": "markdown",
   "id": "ceb9ff90-2512-4064-a967-277ade24e123",
   "metadata": {},
   "source": [
    "## 📤 **Export Results to the S3 Endpoint** "
   ]
  },
  {
   "cell_type": "code",
   "execution_count": 11,
   "id": "f16ad42b-62d6-4dd0-a4a9-73832c777f1c",
   "metadata": {},
   "outputs": [],
   "source": [
    "fs = s3fs.S3FileSystem( anon=True, endpoint_url=\"https://minio.lab.dive.edito.eu\", use_ssl=False ) "
   ]
  },
  {
   "cell_type": "code",
   "execution_count": 12,
   "id": "28f11812-7154-4c0d-9fe2-43fdb36b2b94",
   "metadata": {},
   "outputs": [
    {
     "data": {
      "text/plain": [
       "[None]"
      ]
     },
     "execution_count": 12,
     "metadata": {},
     "output_type": "execute_result"
    }
   ],
   "source": [
    "json_file = str(nom_region)+\"_\"+str(name_season)+\"_\"+str(model)+\".json\"\n",
    "fs.put(json_file, \"project-meom-ige/OMIP/\")"
   ]
  },
  {
   "cell_type": "code",
   "execution_count": 16,
   "id": "3ca414dc-e295-40ba-8e16-162ae2bde72c",
   "metadata": {},
   "outputs": [
    {
     "data": {
      "text/plain": [
       "<s3fs.core.S3FileSystem at 0x3439b6630>"
      ]
     },
     "execution_count": 16,
     "metadata": {},
     "output_type": "execute_result"
    }
   ],
   "source": [
    "fs"
   ]
  }
 ],
 "metadata": {
  "kernelspec": {
   "display_name": "Python 3 (ipykernel)",
   "language": "python",
   "name": "python3"
  },
  "language_info": {
   "codemirror_mode": {
    "name": "ipython",
    "version": 3
   },
   "file_extension": ".py",
   "mimetype": "text/x-python",
   "name": "python",
   "nbconvert_exporter": "python",
   "pygments_lexer": "ipython3",
   "version": "3.12.2"
  }
 },
 "nbformat": 4,
 "nbformat_minor": 5
}
