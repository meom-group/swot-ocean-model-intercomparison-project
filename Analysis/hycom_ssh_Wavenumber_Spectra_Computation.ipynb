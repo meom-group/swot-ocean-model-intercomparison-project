{
 "cells": [
  {
   "cell_type": "markdown",
   "id": "971a18fc-e484-46c2-a18d-f26a6ae9fccc",
   "metadata": {},
   "source": [
    "<div style=\"background-color: steelblue; padding: 10px; border-radius: 5px;\">\n",
    "    <p style=\"margin: 10;\"></p>\n",
    "    <h1 style=\"text-align: center; margin: 0; font-weight: bold; color: white;\">\n",
    "        SWOT Ocean Model Intercomparison Project : EORCA12-ERA5v1 Test Case\n",
    "    </h1>\n",
    "    <p style=\"margin: 10;\"></p>\n",
    "</div>\n",
    "\n"
   ]
  },
  {
   "cell_type": "markdown",
   "id": "9d3e53be-ab8a-41c9-b3f4-a3f17aacfc7d",
   "metadata": {},
   "source": [
    "## 📦**Imports** "
   ]
  },
  {
   "cell_type": "code",
   "execution_count": 1,
   "id": "63a8c831-6e17-4d0e-a7af-9e6bd2b84be6",
   "metadata": {
    "tags": []
   },
   "outputs": [
    {
     "name": "stdout",
     "output_type": "stream",
     "text": [
      "CPU times: user 2.55 s, sys: 499 ms, total: 3.05 s\n",
      "Wall time: 4.52 s\n"
     ]
    }
   ],
   "source": [
    "%%time\n",
    "\n",
    "##################################\n",
    "#Imports\n",
    "\n",
    "from datetime import datetime\n",
    "from datetime import datetime, timedelta\n",
    "import s3fs\n",
    "import xarray as xr\n",
    "import pyinterp\n",
    "from widetrax import DataPreprocessing as dp\n",
    "from widetrax import Spectra as sp\n",
    "import numpy as np\n",
    "import json\n",
    "from watermark import watermark\n",
    "import time\n",
    "import platform\n",
    "import tempfile\n",
    "import geopandas as gpd\n",
    "import boto3\n",
    "from boto3.s3.transfer import TransferConfig\n",
    "from glob import glob\n",
    "\n",
    "from shapely import geometry\n",
    "\n",
    "import matplotlib.pyplot as plt\n",
    "import cartopy.crs as ccrs \n",
    "import cartopy.feature as cf"
   ]
  },
  {
   "cell_type": "markdown",
   "id": "aae527e9-02af-4ea7-9de1-a740b9f6fe6f",
   "metadata": {},
   "source": [
    "### Model informations"
   ]
  },
  {
   "cell_type": "code",
   "execution_count": 2,
   "id": "22bb0155-74b6-400d-a40d-9bac7461f7cf",
   "metadata": {},
   "outputs": [],
   "source": [
    "# period = \"JFM\" # or \"JAS\"\n",
    "period = \"JAS\"\n",
    "\n",
    "# region = \"A\"\n",
    "region = \"B\"\n",
    "\n",
    "# the root prefix (the model name)\n",
    "prefix=\"HYCOM50-E026SURF\" # refers to the absolute wind forcing model\n",
    "bucket = 'swotce'"
   ]
  },
  {
   "cell_type": "markdown",
   "id": "bc7085b2-0401-4991-8bb7-955739727e86",
   "metadata": {},
   "source": [
    "## 🔍 **Check the S3 Endpoint**  "
   ]
  },
  {
   "cell_type": "code",
   "execution_count": 3,
   "id": "8bf4c670-b97c-44c6-84f6-c8612397e77a",
   "metadata": {
    "tags": []
   },
   "outputs": [],
   "source": [
    "session = boto3.Session(profile_name='swotce')\n",
    "s3client = session.client('s3',endpoint_url='https://s3.datalake.cnes.fr')"
   ]
  },
  {
   "cell_type": "code",
   "execution_count": 4,
   "id": "659f6d33-0f53-4296-adcf-4ddf1500267b",
   "metadata": {
    "tags": []
   },
   "outputs": [
    {
     "name": "stdout",
     "output_type": "stream",
     "text": [
      "Objects key in bucket swotce :\n"
     ]
    },
    {
     "data": {
      "text/plain": [
       "1000"
      ]
     },
     "execution_count": 4,
     "metadata": {},
     "output_type": "execute_result"
    }
   ],
   "source": [
    "# List les objets dans le BUCKET avec le prefix recherché\n",
    "liste = s3client.list_objects(Bucket=bucket)['Contents']\n",
    "\n",
    "print(f'Objects key in bucket {bucket} :')\n",
    "list_files = []\n",
    "for object in liste[:]:\n",
    "    list_files.append(object['Key'])\n",
    "len(list_files)"
   ]
  },
  {
   "cell_type": "code",
   "execution_count": 5,
   "id": "fa204d87-71a0-42a1-8df4-8657c7481cef",
   "metadata": {
    "tags": []
   },
   "outputs": [],
   "source": [
    "# s3_folder =f\"swotce/{prefix}\"\n",
    "endpoint_url =  \"https://s3.datalake.cnes.fr\""
   ]
  },
  {
   "cell_type": "raw",
   "id": "c9380e5b-5d6d-461b-bff4-f9f91d047ffc",
   "metadata": {
    "tags": []
   },
   "source": [
    "s3_folder =\"swotce\"\n",
    "endpoint_url =  \"https://s3.datalake.cnes.fr\"\n",
    "fs = s3fs.S3FileSystem(anon=True,endpoint_url=endpoint_url)  ## cette ligne (pas d'accès anonyme même au sein du cnes) nécessite un credential\n",
    "# List contents of the bucket\n",
    "bucket_name = \"swotce\"\n",
    "contents = fs.ls(bucket_name)\n",
    "# print(\"Bucket contents:\")\n",
    "# for item in contents:\n",
    "#     print(item)"
   ]
  },
  {
   "cell_type": "markdown",
   "id": "c6461d2a-173a-4527-bdc3-37cc8eee2d40",
   "metadata": {},
   "source": [
    "## 🧮 **Required variables**"
   ]
  },
  {
   "cell_type": "code",
   "execution_count": 6,
   "id": "87fc6c42-51d5-41ac-8380-559428671ef9",
   "metadata": {
    "tags": []
   },
   "outputs": [
    {
     "data": {
      "text/plain": [
       "(7, 9)"
      ]
     },
     "execution_count": 6,
     "metadata": {},
     "output_type": "execute_result"
    }
   ],
   "source": [
    "# Region and period variables\n",
    "\n",
    "if region == \"A\":\n",
    "    lon_min, lon_max, lat_min, lat_max = -70, -60, 32, 42\n",
    "    \n",
    "elif region == \"B\":\n",
    "    lon_min, lon_max, lat_min, lat_max = -50, -40, 17, 27   \n",
    "\n",
    "area = [lon_min, lat_min, lon_max, lat_max]\n",
    "\n",
    "if period==\"JFM\":\n",
    "    start_date = \"01012024\" # \"DDMMYYYY\"\n",
    "    end_date = \"31032024\"\n",
    "elif period==\"JAS\":\n",
    "    start_date = \"01072024\" # \"DDMMYYYY\"\n",
    "    end_date =\"30092024\"\n",
    "\n",
    "m1 = datetime.strptime(start_date, \"%d%m%Y\").month\n",
    "m2 = datetime.strptime(end_date, \"%d%m%Y\").month\n",
    "m1, m2"
   ]
  },
  {
   "cell_type": "markdown",
   "id": "85c50142-e9eb-4879-b562-78dc52b1857e",
   "metadata": {},
   "source": [
    "## 🔄 **Identify the cycle numbers within the specified time range** "
   ]
  },
  {
   "cell_type": "code",
   "execution_count": 7,
   "id": "6bfcbd8f-13ca-4371-a1bd-30f29d8d3741",
   "metadata": {
    "tags": []
   },
   "outputs": [
    {
     "data": {
      "text/plain": [
       "['017', '018', '019', '020', '021']"
      ]
     },
     "execution_count": 7,
     "metadata": {},
     "output_type": "execute_result"
    }
   ],
   "source": [
    "if period ==\"JFM\":\n",
    "    file_path = \"https://minio.lab.dive.edito.eu/project-meom-ige/cycles_periods.csv\" # works only for winter period\n",
    "elif period ==\"JAS\":\n",
    "    file_path = \"time_ranges.csv\"  # for summer\n",
    "\n",
    "matching_cycles = dp.get_matching_cycles(file_path, start_date, end_date)\n",
    "\n",
    "def formater_numeros_concis(liste_numeros):\n",
    "  return [str(numero).zfill(3) for numero in liste_numeros]\n",
    "    \n",
    "matching_cycles = formater_numeros_concis(matching_cycles)\n",
    "matching_cycles"
   ]
  },
  {
   "cell_type": "markdown",
   "id": "a02c66bf-7437-42b6-b29a-907e93036754",
   "metadata": {},
   "source": [
    "## 📊 **Load datasets and compute Wavenumber spectra**"
   ]
  },
  {
   "cell_type": "markdown",
   "id": "19885478-ff7f-4e7e-acec-06c9a69001b7",
   "metadata": {
    "tags": []
   },
   "source": [
    "##### La cellule suivante necessite un credential à cause de la ligne :\n"
   ]
  },
  {
   "cell_type": "code",
   "execution_count": 8,
   "id": "371aff62-7090-4981-8e0b-8e5f52fee41a",
   "metadata": {
    "tags": []
   },
   "outputs": [
    {
     "name": "stdout",
     "output_type": "stream",
     "text": [
      "Error processing cycle 017: Access Denied\n",
      "Error processing cycle 018: Access Denied\n",
      "Error processing cycle 019: Access Denied\n",
      "Error processing cycle 020: Access Denied\n",
      "Error processing cycle 021: Access Denied\n",
      "CPU times: user 76.7 ms, sys: 62.8 ms, total: 140 ms\n",
      "Wall time: 291 ms\n"
     ]
    }
   ],
   "source": [
    "%%time\n",
    "# Load datasets into a dictionary\n",
    "s3_folder = f\"swotce/{prefix}\" \n",
    "datasets_dict = dp.read_swot_ncfiles_S3subfolders(\n",
    "    s3_folder,\n",
    "    matching_cycles,\n",
    "    endpoint_url,\n",
    "    area)"
   ]
  },
  {
   "cell_type": "markdown",
   "id": "d0327889-01ae-46ca-86e0-9bdc326c8239",
   "metadata": {},
   "source": [
    "### J'utilise en alternative la fonction définie pour lire les fichiers dans le datalake, après l'avoir customisé"
   ]
  },
  {
   "cell_type": "code",
   "execution_count": 9,
   "id": "51b1433e-1921-4256-af37-832270616f53",
   "metadata": {
    "tags": []
   },
   "outputs": [],
   "source": [
    "# pour limiter le temps de calcul je cherche et selectionne uniquement les fauchées qui passent par mon domaine et sur la periode voulue\n",
    "\n",
    "def get_half_orbits_intersect(bbox):\n",
    "    \"\"\"Get half orbits that intersect a bounding box.\n",
    "    Parameters\n",
    "    ----------\n",
    "    bbox:\n",
    "        the bounding box\n",
    "\n",
    "    Returns\n",
    "    -------\n",
    "     gpd.GeoDataFrame:\n",
    "        A Geopandas dataframe containing intersecting half orbits numbers and geometries\n",
    "    \"\"\"\n",
    "    swath_geometries = gpd.read_file(GEOMETRIES_FILE)\n",
    "\n",
    "    bbox_polygon = geometry.box(*bbox)\n",
    "\n",
    "    def _filter_intersect(row, polygon):\n",
    "        half_orbit_polygon = row.geometry\n",
    "        return polygon.intersects(half_orbit_polygon)\n",
    "\n",
    "    select = swath_geometries.apply(_filter_intersect, polygon=bbox_polygon, axis=1)\n",
    "    return swath_geometries[select]\n",
    "\n",
    "\n",
    "def swath_search(lsw, lNE, latsw, latNE, GEOMETRIES_FILE):\n",
    "    \n",
    "    lon_range = lsw, lNE\n",
    "    lat_range = latsw, latNE\n",
    "    bbox = [lon_range[0], lat_range[0], lon_range[1], lat_range[1]]\n",
    "    plot_extent = [lon_range[0], lon_range[1], lat_range[0], lat_range[1]]   \n",
    "    swath_geoms = get_half_orbits_intersect(bbox)\n",
    "    half_orbits = list(swath_geoms['pass_number'])\n",
    "    \n",
    "    return np.transpose(half_orbits)\n",
    "\n",
    "\n",
    "def fig_box(list_ds):\n",
    "    \"\"\"\n",
    "    cette fonction me permet de faire un scatterplot des fauchées sur ma boîte\n",
    "    juste pour une verification graphique\n",
    "    \"\"\"\n",
    "    figure, ax = plt.subplots(1, figsize=(8,6), sharex =True, sharey=True, \n",
    "                              subplot_kw={\"projection\": ccrs.PlateCarree()})\n",
    "    for i in range(len(list_ds)):\n",
    "        ds = list_ds[i]\n",
    "        ax.scatter(ds.longitude, ds.latitude, s = 0.1, c=\"k\")\n",
    "    ax.coastlines()\n",
    "    gl = ax.gridlines(draw_labels=True)\n",
    "    gl.top_labels=False\n",
    "    gl.right_labels=False\n",
    "    ax.set_xlim(-85, -30)\n",
    "    ax.set_ylim(15, 50);"
   ]
  },
  {
   "cell_type": "code",
   "execution_count": 10,
   "id": "c623e8dd-dd2a-4817-8030-f25ef32a7b28",
   "metadata": {
    "tags": []
   },
   "outputs": [
    {
     "data": {
      "text/plain": [
       "array([  5,  18,  33,  46,  74, 102, 199, 227, 255, 268, 283, 296, 311,\n",
       "       324, 352, 380, 505, 533, 546, 561, 574])"
      ]
     },
     "execution_count": 10,
     "metadata": {},
     "output_type": "execute_result"
    }
   ],
   "source": [
    "# Les fauchées qui passe par ma bôite\n",
    "phase = 'science'\n",
    "GEOMETRIES_FILE = f'KaRIn_2kms_{phase}_geometries.geojson'\n",
    "pass_numbers = swath_search(lon_min, lon_max, lat_min, lat_max, GEOMETRIES_FILE)\n",
    "pass_numbers"
   ]
  },
  {
   "cell_type": "code",
   "execution_count": 11,
   "id": "241bc5ce-6f03-4e65-924f-a8a4c0f432dc",
   "metadata": {
    "tags": []
   },
   "outputs": [
    {
     "name": "stdout",
     "output_type": "stream",
     "text": [
      "HYCOM50-E026SURF/cycle_017/HYCOM50-E026SURF_GRID_L3_LR_SSH_017_352_20240701T143257_20240701T152424_v1.0.2.nc\n",
      "HYCOM50-E026SURF/cycle_017/HYCOM50-E026SURF_GRID_L3_LR_SSH_017_380_20240702T143328_20240702T152454_v1.0.2.nc\n",
      "HYCOM50-E026SURF/cycle_017/HYCOM50-E026SURF_GRID_L3_LR_SSH_017_505_20240707T014420_20240707T023547_v1.0.2.nc\n",
      "HYCOM50-E026SURF/cycle_017/HYCOM50-E026SURF_GRID_L3_LR_SSH_017_533_20240708T014452_20240708T023618_v1.0.2.nc\n",
      "HYCOM50-E026SURF/cycle_017/HYCOM50-E026SURF_GRID_L3_LR_SSH_017_546_20240708T125341_20240708T134507_v1.0.2.nc\n",
      "HYCOM50-E026SURF/cycle_017/HYCOM50-E026SURF_GRID_L3_LR_SSH_017_561_20240709T014523_20240709T023649_v1.0.2.nc\n",
      "HYCOM50-E026SURF/cycle_017/HYCOM50-E026SURF_GRID_L3_LR_SSH_017_574_20240709T125412_20240709T134538_v1.0.2.nc\n",
      "HYCOM50-E026SURF/cycle_018/HYCOM50-E026SURF_GRID_L3_LR_SSH_018_005_20240710T014554_20240710T023720_v1.0.2.nc\n",
      "HYCOM50-E026SURF/cycle_018/HYCOM50-E026SURF_GRID_L3_LR_SSH_018_018_20240710T125443_20240710T134610_v1.0.2.nc\n",
      "HYCOM50-E026SURF/cycle_018/HYCOM50-E026SURF_GRID_L3_LR_SSH_018_033_20240711T014625_20240711T023752_v1.0.2.nc\n",
      "HYCOM50-E026SURF/cycle_018/HYCOM50-E026SURF_GRID_L3_LR_SSH_018_046_20240711T125514_20240711T134641_v1.0.2.nc\n",
      "HYCOM50-E026SURF/cycle_018/HYCOM50-E026SURF_GRID_L3_LR_SSH_018_074_20240712T125545_20240712T134712_v1.0.2.nc\n",
      "HYCOM50-E026SURF/cycle_018/HYCOM50-E026SURF_GRID_L3_LR_SSH_018_102_20240713T125617_20240713T134743_v1.0.2.nc\n",
      "HYCOM50-E026SURF/cycle_018/HYCOM50-E026SURF_GRID_L3_LR_SSH_018_199_20240717T000639_20240717T005805_v1.0.2.nc\n",
      "HYCOM50-E026SURF/cycle_018/HYCOM50-E026SURF_GRID_L3_LR_SSH_018_227_20240718T000710_20240718T005836_v1.0.2.nc\n",
      "HYCOM50-E026SURF/cycle_018/HYCOM50-E026SURF_GRID_L3_LR_SSH_018_255_20240719T000741_20240719T005907_v1.0.2.nc\n",
      "HYCOM50-E026SURF/cycle_018/HYCOM50-E026SURF_GRID_L3_LR_SSH_018_268_20240719T111630_20240719T120756_v1.0.2.nc\n",
      "HYCOM50-E026SURF/cycle_018/HYCOM50-E026SURF_GRID_L3_LR_SSH_018_283_20240720T000812_20240720T005938_v1.0.2.nc\n",
      "HYCOM50-E026SURF/cycle_018/HYCOM50-E026SURF_GRID_L3_LR_SSH_018_296_20240720T111701_20240720T120827_v1.0.2.nc\n",
      "HYCOM50-E026SURF/cycle_018/HYCOM50-E026SURF_GRID_L3_LR_SSH_018_311_20240721T000843_20240721T010009_v1.0.2.nc\n",
      "HYCOM50-E026SURF/cycle_018/HYCOM50-E026SURF_GRID_L3_LR_SSH_018_324_20240721T111732_20240721T120859_v1.0.2.nc\n",
      "HYCOM50-E026SURF/cycle_018/HYCOM50-E026SURF_GRID_L3_LR_SSH_018_352_20240722T111803_20240722T120929_v1.0.2.nc\n",
      "HYCOM50-E026SURF/cycle_018/HYCOM50-E026SURF_GRID_L3_LR_SSH_018_380_20240723T111834_20240723T121000_v1.0.2.nc\n",
      "HYCOM50-E026SURF/cycle_018/HYCOM50-E026SURF_GRID_L3_LR_SSH_018_505_20240727T222926_20240727T232052_v1.0.2.nc\n",
      "HYCOM50-E026SURF/cycle_018/HYCOM50-E026SURF_GRID_L3_LR_SSH_018_533_20240728T222957_20240728T232123_v1.0.2.nc\n",
      "HYCOM50-E026SURF/cycle_018/HYCOM50-E026SURF_GRID_L3_LR_SSH_018_546_20240729T093846_20240729T103012_v1.0.2.nc\n",
      "HYCOM50-E026SURF/cycle_018/HYCOM50-E026SURF_GRID_L3_LR_SSH_018_561_20240729T223028_20240729T232154_v1.0.2.nc\n",
      "HYCOM50-E026SURF/cycle_018/HYCOM50-E026SURF_GRID_L3_LR_SSH_018_574_20240730T093917_20240730T103043_v1.0.2.nc\n",
      "HYCOM50-E026SURF/cycle_019/HYCOM50-E026SURF_GRID_L3_LR_SSH_019_005_20240730T223059_20240730T232225_v1.0.2.nc\n",
      "HYCOM50-E026SURF/cycle_019/HYCOM50-E026SURF_GRID_L3_LR_SSH_019_018_20240731T093948_20240731T103115_v1.0.2.nc\n",
      "HYCOM50-E026SURF/cycle_019/HYCOM50-E026SURF_GRID_L3_LR_SSH_019_033_20240731T223130_20240731T232256_v1.0.2.nc\n",
      "HYCOM50-E026SURF/cycle_019/HYCOM50-E026SURF_GRID_L3_LR_SSH_019_046_20240801T094019_20240801T103145_v1.0.2.nc\n",
      "HYCOM50-E026SURF/cycle_019/HYCOM50-E026SURF_GRID_L3_LR_SSH_019_074_20240802T094050_20240802T103216_v1.0.2.nc\n",
      "HYCOM50-E026SURF/cycle_019/HYCOM50-E026SURF_GRID_L3_LR_SSH_019_102_20240803T094121_20240803T103247_v1.0.2.nc\n",
      "HYCOM50-E026SURF/cycle_019/HYCOM50-E026SURF_GRID_L3_LR_SSH_019_199_20240806T205143_20240806T214309_v1.0.2.nc\n",
      "HYCOM50-E026SURF/cycle_019/HYCOM50-E026SURF_GRID_L3_LR_SSH_019_227_20240807T205214_20240807T214340_v1.0.2.nc\n",
      "HYCOM50-E026SURF/cycle_019/HYCOM50-E026SURF_GRID_L3_LR_SSH_019_255_20240808T205245_20240808T214412_v1.0.2.nc\n",
      "HYCOM50-E026SURF/cycle_019/HYCOM50-E026SURF_GRID_L3_LR_SSH_019_268_20240809T080134_20240809T085300_v1.0.2.nc\n",
      "HYCOM50-E026SURF/cycle_019/HYCOM50-E026SURF_GRID_L3_LR_SSH_019_283_20240809T205317_20240809T214443_v1.0.2.nc\n",
      "HYCOM50-E026SURF/cycle_019/HYCOM50-E026SURF_GRID_L3_LR_SSH_019_296_20240810T080205_20240810T085332_v1.0.2.nc\n",
      "HYCOM50-E026SURF/cycle_019/HYCOM50-E026SURF_GRID_L3_LR_SSH_019_311_20240810T205348_20240810T214514_v1.0.2.nc\n",
      "HYCOM50-E026SURF/cycle_019/HYCOM50-E026SURF_GRID_L3_LR_SSH_019_324_20240811T080237_20240811T085403_v1.0.2.nc\n",
      "HYCOM50-E026SURF/cycle_019/HYCOM50-E026SURF_GRID_L3_LR_SSH_019_352_20240812T080308_20240812T085434_v1.0.2.nc\n",
      "HYCOM50-E026SURF/cycle_019/HYCOM50-E026SURF_GRID_L3_LR_SSH_019_380_20240813T080339_20240813T085505_v1.0.2.nc\n",
      "HYCOM50-E026SURF/cycle_019/HYCOM50-E026SURF_GRID_L3_LR_SSH_019_505_20240817T191431_20240817T200557_v1.0.2.nc\n",
      "HYCOM50-E026SURF/cycle_019/HYCOM50-E026SURF_GRID_L3_LR_SSH_019_533_20240818T191502_20240818T200628_v1.0.2.nc\n",
      "HYCOM50-E026SURF/cycle_019/HYCOM50-E026SURF_GRID_L3_LR_SSH_019_546_20240819T062350_20240819T071517_v1.0.2.nc\n",
      "HYCOM50-E026SURF/cycle_019/HYCOM50-E026SURF_GRID_L3_LR_SSH_019_561_20240819T191533_20240819T200659_v1.0.2.nc\n",
      "HYCOM50-E026SURF/cycle_019/HYCOM50-E026SURF_GRID_L3_LR_SSH_019_574_20240820T062421_20240820T071547_v1.0.2.nc\n",
      "HYCOM50-E026SURF/cycle_020/HYCOM50-E026SURF_GRID_L3_LR_SSH_020_005_20240820T191603_20240820T200730_v1.0.2.nc\n",
      "HYCOM50-E026SURF/cycle_020/HYCOM50-E026SURF_GRID_L3_LR_SSH_020_018_20240821T062452_20240821T071619_v1.0.2.nc\n",
      "HYCOM50-E026SURF/cycle_020/HYCOM50-E026SURF_GRID_L3_LR_SSH_020_033_20240821T191634_20240821T200800_v1.0.2.nc\n",
      "HYCOM50-E026SURF/cycle_020/HYCOM50-E026SURF_GRID_L3_LR_SSH_020_046_20240822T062523_20240822T071650_v1.0.2.nc\n",
      "HYCOM50-E026SURF/cycle_020/HYCOM50-E026SURF_GRID_L3_LR_SSH_020_074_20240823T062554_20240823T071720_v1.0.2.nc\n",
      "HYCOM50-E026SURF/cycle_020/HYCOM50-E026SURF_GRID_L3_LR_SSH_020_102_20240824T062625_20240824T071751_v1.0.2.nc\n",
      "HYCOM50-E026SURF/cycle_020/HYCOM50-E026SURF_GRID_L3_LR_SSH_020_199_20240827T173647_20240827T182814_v1.0.2.nc\n",
      "HYCOM50-E026SURF/cycle_020/HYCOM50-E026SURF_GRID_L3_LR_SSH_020_227_20240828T173719_20240828T182845_v1.0.2.nc\n",
      "HYCOM50-E026SURF/cycle_020/HYCOM50-E026SURF_GRID_L3_LR_SSH_020_255_20240829T173750_20240829T182916_v1.0.2.nc\n",
      "HYCOM50-E026SURF/cycle_020/HYCOM50-E026SURF_GRID_L3_LR_SSH_020_268_20240830T044639_20240830T053805_v1.0.2.nc\n",
      "HYCOM50-E026SURF/cycle_020/HYCOM50-E026SURF_GRID_L3_LR_SSH_020_283_20240830T173821_20240830T182947_v1.0.2.nc\n",
      "HYCOM50-E026SURF/cycle_020/HYCOM50-E026SURF_GRID_L3_LR_SSH_020_296_20240831T044710_20240831T053836_v1.0.2.nc\n",
      "HYCOM50-E026SURF/cycle_020/HYCOM50-E026SURF_GRID_L3_LR_SSH_020_311_20240831T173852_20240831T183019_v1.0.2.nc\n",
      "HYCOM50-E026SURF/cycle_020/HYCOM50-E026SURF_GRID_L3_LR_SSH_020_324_20240901T044741_20240901T053908_v1.0.2.nc\n",
      "HYCOM50-E026SURF/cycle_020/HYCOM50-E026SURF_GRID_L3_LR_SSH_020_352_20240902T044813_20240902T053939_v1.0.2.nc\n",
      "HYCOM50-E026SURF/cycle_020/HYCOM50-E026SURF_GRID_L3_LR_SSH_020_380_20240903T044844_20240903T054010_v1.0.2.nc\n",
      "HYCOM50-E026SURF/cycle_020/HYCOM50-E026SURF_GRID_L3_LR_SSH_020_505_20240907T155937_20240907T165103_v1.0.2.nc\n",
      "HYCOM50-E026SURF/cycle_020/HYCOM50-E026SURF_GRID_L3_LR_SSH_020_533_20240908T160008_20240908T165134_v1.0.2.nc\n",
      "HYCOM50-E026SURF/cycle_020/HYCOM50-E026SURF_GRID_L3_LR_SSH_020_546_20240909T030856_20240909T040022_v1.0.2.nc\n",
      "HYCOM50-E026SURF/cycle_020/HYCOM50-E026SURF_GRID_L3_LR_SSH_020_561_20240909T160038_20240909T165205_v1.0.2.nc\n",
      "HYCOM50-E026SURF/cycle_020/HYCOM50-E026SURF_GRID_L3_LR_SSH_020_574_20240910T030927_20240910T040053_v1.0.2.nc\n",
      "HYCOM50-E026SURF/cycle_021/HYCOM50-E026SURF_GRID_L3_LR_SSH_021_005_20240910T160109_20240910T165236_v1.0.2.nc\n",
      "HYCOM50-E026SURF/cycle_021/HYCOM50-E026SURF_GRID_L3_LR_SSH_021_018_20240911T030958_20240911T040125_v1.0.2.nc\n",
      "HYCOM50-E026SURF/cycle_021/HYCOM50-E026SURF_GRID_L3_LR_SSH_021_033_20240911T160140_20240911T165307_v1.0.2.nc\n",
      "HYCOM50-E026SURF/cycle_021/HYCOM50-E026SURF_GRID_L3_LR_SSH_021_046_20240912T031029_20240912T040156_v1.0.2.nc\n",
      "HYCOM50-E026SURF/cycle_021/HYCOM50-E026SURF_GRID_L3_LR_SSH_021_074_20240913T031100_20240913T040227_v1.0.2.nc\n",
      "HYCOM50-E026SURF/cycle_021/HYCOM50-E026SURF_GRID_L3_LR_SSH_021_102_20240914T031131_20240914T040258_v1.0.2.nc\n",
      "HYCOM50-E026SURF/cycle_021/HYCOM50-E026SURF_GRID_L3_LR_SSH_021_199_20240917T142154_20240917T151320_v1.0.2.nc\n",
      "HYCOM50-E026SURF/cycle_021/HYCOM50-E026SURF_GRID_L3_LR_SSH_021_227_20240918T142225_20240918T151351_v1.0.2.nc\n",
      "HYCOM50-E026SURF/cycle_021/HYCOM50-E026SURF_GRID_L3_LR_SSH_021_255_20240919T142256_20240919T151423_v1.0.2.nc\n",
      "HYCOM50-E026SURF/cycle_021/HYCOM50-E026SURF_GRID_L3_LR_SSH_021_268_20240920T013145_20240920T022312_v1.0.2.nc\n",
      "HYCOM50-E026SURF/cycle_021/HYCOM50-E026SURF_GRID_L3_LR_SSH_021_283_20240920T142328_20240920T151454_v1.0.2.nc\n",
      "HYCOM50-E026SURF/cycle_021/HYCOM50-E026SURF_GRID_L3_LR_SSH_021_296_20240921T013217_20240921T022343_v1.0.2.nc\n",
      "HYCOM50-E026SURF/cycle_021/HYCOM50-E026SURF_GRID_L3_LR_SSH_021_311_20240921T142359_20240921T151525_v1.0.2.nc\n",
      "HYCOM50-E026SURF/cycle_021/HYCOM50-E026SURF_GRID_L3_LR_SSH_021_352_20240923T013319_20240923T022446_v1.0.2.nc\n",
      "HYCOM50-E026SURF/cycle_021/HYCOM50-E026SURF_GRID_L3_LR_SSH_021_380_20240924T013351_20240924T022517_v1.0.2.nc\n",
      "HYCOM50-E026SURF/cycle_021/HYCOM50-E026SURF_GRID_L3_LR_SSH_021_505_20240928T124444_20240928T133610_v1.0.2.nc\n",
      "HYCOM50-E026SURF/cycle_021/HYCOM50-E026SURF_GRID_L3_LR_SSH_021_533_20240929T124515_20240929T133641_v1.0.2.nc\n",
      "HYCOM50-E026SURF/cycle_021/HYCOM50-E026SURF_GRID_L3_LR_SSH_021_546_20240929T235404_20240930T004530_v1.0.2.nc\n",
      "HYCOM50-E026SURF/cycle_021/HYCOM50-E026SURF_GRID_L3_LR_SSH_021_561_20240930T124546_20240930T133713_v1.0.2.nc\n",
      "HYCOM50-E026SURF/cycle_021/HYCOM50-E026SURF_GRID_L3_LR_SSH_021_574_20240930T235435_20241001T004601_v1.0.2.nc\n",
      "90 are found in the region B in JAS\n"
     ]
    }
   ],
   "source": [
    "# Cette cellule remplace en partie celle de la fonction \"dp.read_swot_ncfiles_S3subfolders\"\n",
    "# Il selectionne les fichiers et uniquement sur la periode d'intérêt\n",
    "\n",
    "# file listing\n",
    "\n",
    "list_files = []\n",
    "for cycle_number in matching_cycles:\n",
    "    s3_folder = f\"{prefix}/cycle_{cycle_number}/\" \n",
    "    liste = s3client.list_objects(Bucket=bucket,Prefix= s3_folder)['Contents']    # l'accès au buket \"swotce\"\n",
    "    for object in liste:\n",
    "        filename = object['Key']        \n",
    "        passnumber = int(filename[-45:-42])  # the swot path pass number        \n",
    "        month = datetime.strptime(filename[-41:-33], \"%Y%m%d\").month  # the month corresponding to the swath\n",
    "        \n",
    "        if (month in range(m1, m2+1)) & (passnumber in pass_numbers): \n",
    "            print(filename)\n",
    "            list_files.append(filename)\n",
    "\n",
    "print(f\"{len(list_files)} are found in the region {region} in {period}\")\n",
    "\n",
    "# ~100 files are found in a 10° x 10° box against ~1500 when pass number and pe are not specified"
   ]
  },
  {
   "cell_type": "code",
   "execution_count": 12,
   "id": "126e636e-6a32-409e-9d0b-747838a52121",
   "metadata": {
    "tags": []
   },
   "outputs": [
    {
     "name": "stderr",
     "output_type": "stream",
     "text": [
      "/work/scratch/env/aguedjh/ceswot-custom/lib/python3.10/site-packages/xarray/backends/plugins.py:80: RuntimeWarning: Engine 'gini' loading failed:\n",
      "module 'numpy' has no attribute 'cumproduct'\n",
      "  warnings.warn(f\"Engine {name!r} loading failed:\\n{ex}\", RuntimeWarning)\n"
     ]
    },
    {
     "name": "stdout",
     "output_type": "stream",
     "text": [
      "90 datasets are listed\n"
     ]
    }
   ],
   "source": [
    "# load the listed files\n",
    "\n",
    "datasets_dict = {}\n",
    "\n",
    "current_key = 0\n",
    "for filename in list_files :\n",
    "    tmp = tempfile.NamedTemporaryFile()\n",
    "    # tc = TransferConfig(io_chunksize=2621440)   \n",
    "    with open(tmp.name, 'wb') as f:\n",
    "        s3client.download_fileobj('swotce', filename, f) # acces to datalake\n",
    "        ds = xr.open_dataset(tmp.name, engine='netcdf4')\n",
    "         \n",
    "        if 'latitude' in ds and 'longitude' in ds:            \n",
    "            # Handle longitude wrapping\n",
    "            if lon_min < lon_max:\n",
    "                ds['longitude'] = xr.where(ds['longitude'] <=180, ds['longitude'], ds['longitude'] - 360) \n",
    "                lon_selection = (ds['longitude'] >= lon_min) & (ds['longitude'] <= lon_max)\n",
    "            else:\n",
    "                lon_selection = ((ds['longitude'] >= lon_min) & (ds['longitude'] <= 360)) | (ds['longitude'] <= lon_max)\n",
    "            \n",
    "            lat_selection = (ds['latitude'] >= lat_min) & (ds['latitude'] <= lat_max)\n",
    "            # Combine the selection masks\n",
    "            selection = lat_selection & lon_selection\n",
    "            \n",
    "            # Check if selection is valid\n",
    "            if selection.any():\n",
    "                # print(f\"{filename[61:68]} included.\")\n",
    "                ds = ds.where(selection, drop=True)\n",
    "                # Add the dataset to the dictionary if it passed all filters\n",
    "                datasets_dict[current_key] = ds\n",
    "                current_key +=1\n",
    "            else :\n",
    "                ds.close()\n",
    "                continue\n",
    "print(current_key, \"datasets are listed\")"
   ]
  },
  {
   "cell_type": "code",
   "execution_count": null,
   "id": "1a2fa5ac-2a5a-4e56-bc68-f401d81785d8",
   "metadata": {
    "tags": []
   },
   "outputs": [],
   "source": []
  },
  {
   "cell_type": "code",
   "execution_count": 13,
   "id": "a8a40800-7398-4536-aaaf-1124940c9040",
   "metadata": {
    "tags": []
   },
   "outputs": [
    {
     "name": "stdout",
     "output_type": "stream",
     "text": [
      "CPU times: user 643 ms, sys: 11.3 ms, total: 654 ms\n",
      "Wall time: 695 ms\n"
     ]
    },
    {
     "data": {
      "image/png": "[encoded data removed]",
      "text/plain": [
       "<Figure size 800x600 with 1 Axes>"
      ]
     },
     "metadata": {},
     "output_type": "display_data"
    }
   ],
   "source": [
    "%%time\n",
    "fig_box(datasets_dict)\n"
   ]
  },
  {
   "cell_type": "code",
   "execution_count": 14,
   "id": "dc1511c0-88e9-4837-94b0-79d07bb91f65",
   "metadata": {},
   "outputs": [
    {
     "name": "stdout",
     "output_type": "stream",
     "text": [
      "CPU times: user 3 s, sys: 9.4 s, total: 12.4 s\n",
      "Wall time: 15.9 s\n"
     ]
    }
   ],
   "source": [
    "%%time\n",
    "has_converged, filled_datasets = dp.fill_nan(datasets_dict, varname = \"ssh\")"
   ]
  },
  {
   "cell_type": "code",
   "execution_count": 15,
   "id": "7f9712ff-7a57-4ebf-9435-a596e46216d1",
   "metadata": {},
   "outputs": [
    {
     "name": "stderr",
     "output_type": "stream",
     "text": [
      "/work/scratch/env/aguedjh/ceswot-custom/lib/python3.10/site-packages/widetrax/Spectra.py:43: FutureWarning: The return type of `Dataset.dims` will be changed to return a set of dimension names in future, in order to be more consistent with `DataArray.dims`. To access a mapping from dimension names to lengths, please use `Dataset.sizes`.\n",
      "  for col in range(dataset.dims['num_pixels']):\n"
     ]
    },
    {
     "name": "stdout",
     "output_type": "stream",
     "text": [
      "CPU times: user 718 ms, sys: 14.9 ms, total: 733 ms\n",
      "Wall time: 762 ms\n"
     ]
    }
   ],
   "source": [
    "%%time\n",
    "segments_dict = sp.retrieve_segments(filled_datasets,FileType = \"NetCDF\",namevar=\"ssh\")"
   ]
  },
  {
   "cell_type": "code",
   "execution_count": 16,
   "id": "59ef318b-9264-40a4-9171-5f2b6475e9b3",
   "metadata": {},
   "outputs": [
    {
     "name": "stdout",
     "output_type": "stream",
     "text": [
      "CPU times: user 1.66 s, sys: 3.09 s, total: 4.75 s\n",
      "Wall time: 11.7 s\n"
     ]
    }
   ],
   "source": [
    "%%time\n",
    "psd_dict, freqs_dict = sp.calculate_psd(segments_dict)\n",
    "# Calculate PSD Mean\n",
    "psd_mean, freqs_mean = sp.psd_mean_and_freq(psd_dict,freqs_dict)"
   ]
  },
  {
   "cell_type": "markdown",
   "id": "f60c3776-1df4-4bbb-abd7-20dde44c01b3",
   "metadata": {},
   "source": [
    "## 💾 **Save Results and Information in JSON File**"
   ]
  },
  {
   "cell_type": "code",
   "execution_count": 17,
   "id": "1b7c4e9e-0a0c-4903-97e2-345248d4350c",
   "metadata": {},
   "outputs": [
    {
     "name": "stdout",
     "output_type": "stream",
     "text": [
      "JSON file created\n"
     ]
    }
   ],
   "source": [
    "# Infos\n",
    "nom_region = region\n",
    "model = prefix\n",
    "freqs_mean = np.array(freqs_mean)\n",
    "psd_mean = np.array(psd_mean)\n",
    "todays_Date = datetime.now()\n",
    "date_creation = todays_Date.isoformat() #ISO 8601 format\n",
    "packages_versions = watermark(packages=\"numpy,widetrax,xarray,s3fs,pyinterp,datetime,json,platform,time\")\n",
    "machine_info = {\n",
    "    \"system\": platform.system(),\n",
    "    \"node_name\": platform.node(),\n",
    "    \"release\": platform.release(),\n",
    "    \"version\": platform.version(),\n",
    "    \"machine\": platform.machine(),\n",
    "    \"processor\": platform.processor(),\n",
    "    \"python_version\": platform.python_version()\n",
    "}\n",
    "\n",
    "# JSON file structure\n",
    "donnees = {\n",
    "    \"region\": nom_region,\n",
    "    \"period\" : period,\n",
    "    \"model\": model,\n",
    "    \"lon_min\": lon_min,\n",
    "    \"lon_max\": lon_max,\n",
    "    \"lat_min\": lat_min,\n",
    "    \"lat_max\": lat_max,\n",
    "    \"start_date\": datetime.strptime(start_date, \"%d%m%Y\").strftime(\"%Y-%m-%d\"),\n",
    "    \"end_date\": datetime.strptime(end_date, \"%d%m%Y\").strftime(\"%Y-%m-%d\"),\n",
    "    \"packages_versions\": packages_versions,\n",
    "    \"date_creation\": date_creation,\n",
    "    \"login_creator\": platform.node(),\n",
    "    \"Frequency\": freqs_mean.tolist(),\n",
    "    \"Spectra\": psd_mean.tolist(),\n",
    "    \"machine_info\": machine_info\n",
    "}\n",
    "\n",
    "# Save on JSON file\n",
    "with open(f\"Region_{region}_{period}_{model}.json\", \"w\", encoding=\"utf-8\") as f:\n",
    "    json.dump(donnees, f, ensure_ascii=False, indent=4)\n",
    "\n",
    "print(\"JSON file created\")\n"
   ]
  },
  {
   "cell_type": "markdown",
   "id": "ceb9ff90-2512-4064-a967-277ade24e123",
   "metadata": {},
   "source": [
    "## 📤 **Export Results to the S3 Endpoint** "
   ]
  },
  {
   "cell_type": "code",
   "execution_count": 18,
   "id": "f16ad42b-62d6-4dd0-a4a9-73832c777f1c",
   "metadata": {},
   "outputs": [],
   "source": [
    "fs = s3fs.S3FileSystem( anon=True, endpoint_url=\"https://minio.lab.dive.edito.eu\", use_ssl=False ) "
   ]
  },
  {
   "cell_type": "code",
   "execution_count": 19,
   "id": "28f11812-7154-4c0d-9fe2-43fdb36b2b94",
   "metadata": {},
   "outputs": [
    {
     "data": {
      "text/plain": [
       "'Region_B_JAS_HYCOM50-E026SURF.json'"
      ]
     },
     "execution_count": 19,
     "metadata": {},
     "output_type": "execute_result"
    }
   ],
   "source": [
    "json_file = f\"Region_{region}_{period}_{model}.json\"\n",
    "json_file"
   ]
  },
  {
   "cell_type": "code",
   "execution_count": 20,
   "id": "29c67fa5-9b31-4027-af37-cf4ab0ddfd69",
   "metadata": {
    "tags": []
   },
   "outputs": [],
   "source": [
    "upload = True\n",
    "if upload ==True:\n",
    "    fs.put(json_file, \"project-meom-ige/OMIP/\")"
   ]
  },
  {
   "cell_type": "code",
   "execution_count": null,
   "id": "50830bf4-ef8a-4b2f-b44a-fbd89fc83a64",
   "metadata": {},
   "outputs": [],
   "source": []
  }
 ],
 "metadata": {
  "kernelspec": {
   "display_name": "custom_env",
   "language": "python",
   "name": "custom_env"
  },
  "language_info": {
   "codemirror_mode": {
    "name": "ipython",
    "version": 3
   },
   "file_extension": ".py",
   "mimetype": "text/x-python",
   "name": "python",
   "nbconvert_exporter": "python",
   "pygments_lexer": "ipython3",
   "version": "3.10.14"
  },
  "widgets": {
   "application/vnd.jupyter.widget-state+json": {
    "state": {},
    "version_major": 2,
    "version_minor": 0
   }
  }
 },
 "nbformat": 4,
 "nbformat_minor": 5
}
