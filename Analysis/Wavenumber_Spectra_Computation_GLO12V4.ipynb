{
 "cells": [
  {
   "cell_type": "markdown",
   "id": "971a18fc-e484-46c2-a18d-f26a6ae9fccc",
   "metadata": {},
   "source": [
    "<div style=\"background-color: steelblue; padding: 10px; border-radius: 5px;\">\n",
    "    <p style=\"margin: 10;\"></p>\n",
    "    <h1 style=\"text-align: center; margin: 0; font-weight: bold; color: white;\">SWOT Ocean Model Intercomparison Project : EORCA12-ERA5v1 Test Case</h1>\n",
    "    <p style=\"margin: 10;\"></p>\n",
    "</div>\n",
    "\n"
   ]
  },
  {
   "cell_type": "markdown",
   "id": "9d3e53be-ab8a-41c9-b3f4-a3f17aacfc7d",
   "metadata": {},
   "source": [
    "## 📦**Imports** "
   ]
  },
  {
   "cell_type": "code",
   "execution_count": 1,
   "id": "63a8c831-6e17-4d0e-a7af-9e6bd2b84be6",
   "metadata": {},
   "outputs": [
    {
     "name": "stdout",
     "output_type": "stream",
     "text": [
      "CPU times: user 3.06 s, sys: 1.2 s, total: 4.26 s\n",
      "Wall time: 1.64 s\n"
     ]
    }
   ],
   "source": [
    "%%time\n",
    "\n",
    "##################################\n",
    "#Imports\n",
    "\n",
    "from datetime import datetime\n",
    "import s3fs\n",
    "import xarray as xr\n",
    "import pyinterp\n",
    "from widetrax import DataPreprocessing as dp\n",
    "from widetrax import Spectra as sp\n",
    "import numpy as np\n",
    "import json\n",
    "from watermark import watermark\n",
    "import time\n",
    "import platform"
   ]
  },
  {
   "cell_type": "markdown",
   "id": "bc7085b2-0401-4991-8bb7-955739727e86",
   "metadata": {},
   "source": [
    "## 🔍 **Check the S3 Endpoint**  "
   ]
  },
  {
   "cell_type": "code",
   "execution_count": 2,
   "id": "8775da79-d598-40a5-8202-a619a511bdc3",
   "metadata": {},
   "outputs": [
    {
     "name": "stdout",
     "output_type": "stream",
     "text": [
      "Bucket contents:\n",
      "project-moi-swot-omip/GLO36V1/cycle_.keep\n",
      "project-moi-swot-omip/GLO36V1/cycle_008\n",
      "project-moi-swot-omip/GLO36V1/cycle_009\n",
      "project-moi-swot-omip/GLO36V1/cycle_010\n",
      "project-moi-swot-omip/GLO36V1/cycle_011\n",
      "project-moi-swot-omip/GLO36V1/cycle_012\n",
      "project-moi-swot-omip/GLO36V1/cycle_013\n",
      "project-moi-swot-omip/GLO36V1/cycle_014\n",
      "project-moi-swot-omip/GLO36V1/cycle_015\n",
      "project-moi-swot-omip/GLO36V1/cycle_016\n",
      "project-moi-swot-omip/GLO36V1/cycle_017\n",
      "project-moi-swot-omip/GLO36V1/cycle_018\n",
      "project-moi-swot-omip/GLO36V1/cycle_019\n",
      "project-moi-swot-omip/GLO36V1/cycle_020\n",
      "project-moi-swot-omip/GLO36V1/cycle_021\n",
      "project-moi-swot-omip/GLO36V1/cycle_022\n",
      "project-moi-swot-omip/GLO36V1/cycle_023\n",
      "project-moi-swot-omip/GLO36V1/cycle_024\n",
      "project-moi-swot-omip/GLO36V1/cycle_025\n",
      "project-moi-swot-omip/GLO36V1/cycle_026\n"
     ]
    }
   ],
   "source": [
    "s3_folder =\"s3://project-moi-swot-omip/GLO12V4\" # Do not write /!!!!!!\n",
    "endpoint_url =  \"https://minio.dive.edito.eu/\"\n",
    "fs = s3fs.S3FileSystem(anon=True,endpoint_url=endpoint_url)\n",
    "# List contents of the bucket\n",
    "bucket_name = 's3://project-moi-swot-omip/GLO36V1'\n",
    "contents = fs.ls(bucket_name)\n",
    "print(\"Bucket contents:\")\n",
    "for item in contents:\n",
    "    print(item)"
   ]
  },
  {
   "cell_type": "markdown",
   "id": "c6461d2a-173a-4527-bdc3-37cc8eee2d40",
   "metadata": {},
   "source": [
    "## 🧮 **Required variables**"
   ]
  },
  {
   "cell_type": "code",
   "execution_count": 3,
   "id": "87fc6c42-51d5-41ac-8380-559428671ef9",
   "metadata": {},
   "outputs": [],
   "source": [
    "# REGION A\n",
    "\n",
    "name_region=\"Region_B\"\n",
    "season=\"JAS\"\n",
    "\n",
    "if name_region==\"Region_A\":\n",
    "    lon_min = 360-70,\n",
    "    lon_max = 360-60,\n",
    "    lat_min = 32,\n",
    "    lat_max = 42,\n",
    "elif name_region==\"Region_B\":\n",
    "    lon_min = 360-50,\n",
    "    lon_max = 360-40,\n",
    "    lat_min = 17,\n",
    "    lat_max = 27,\n",
    "\n",
    "area = [lon_min, lat_min, lon_max, lat_max]\n",
    "\n",
    "if season==\"JFM\":    \n",
    "    start_date = \"01012024\" # \"DDMMYYYY\"\n",
    "    end_date =\"31032024\"\n",
    "elif season==\"JAS\":\n",
    "    start_date = \"01072024\" # \"DDMMYYYY\"\n",
    "    end_date =\"30092024\""
   ]
  },
  {
   "cell_type": "code",
   "execution_count": 4,
   "id": "c5b86783-5648-4224-9413-d99b1a00fb56",
   "metadata": {},
   "outputs": [
    {
     "data": {
      "text/plain": [
       "'30092024'"
      ]
     },
     "execution_count": 4,
     "metadata": {},
     "output_type": "execute_result"
    }
   ],
   "source": [
    "end_date"
   ]
  },
  {
   "cell_type": "markdown",
   "id": "85c50142-e9eb-4879-b562-78dc52b1857e",
   "metadata": {},
   "source": [
    "## 🔄 **Identify the cycle numbers within the specified time range** "
   ]
  },
  {
   "cell_type": "code",
   "execution_count": 4,
   "id": "6bfcbd8f-13ca-4371-a1bd-30f29d8d3741",
   "metadata": {},
   "outputs": [
    {
     "data": {
      "text/plain": [
       "['017', '018', '019', '020', '021']"
      ]
     },
     "execution_count": 4,
     "metadata": {},
     "output_type": "execute_result"
    }
   ],
   "source": [
    "if season ==\"JFM\":\n",
    "    file_path = \"https://minio.lab.dive.edito.eu/project-meom-ige/cycles_periods.csv\" # works only for winter period\n",
    "elif season ==\"JAS\":\n",
    "    file_path = \"time_ranges.csv\"  # for summer\n",
    "\n",
    "matching_cycles = dp.get_matching_cycles(file_path, start_date, end_date)\n",
    "\n",
    "def formater_numeros_concis(liste_numeros):\n",
    "  return [str(numero).zfill(3) for numero in liste_numeros]\n",
    "    \n",
    "matching_cycles = formater_numeros_concis(matching_cycles)\n",
    "matching_cycles\n"
   ]
  },
  {
   "cell_type": "markdown",
   "id": "a02c66bf-7437-42b6-b29a-907e93036754",
   "metadata": {},
   "source": [
    "## 📊 **Load datasets and compute Wavenumber spectra**"
   ]
  },
  {
   "cell_type": "code",
   "execution_count": 5,
   "id": "371aff62-7090-4981-8e0b-8e5f52fee41a",
   "metadata": {},
   "outputs": [
    {
     "name": "stdout",
     "output_type": "stream",
     "text": [
      "17_005_ included.\n",
      "17_018_ included.\n",
      "17_033_ included.\n",
      "17_046_ included.\n",
      "17_074_ included.\n",
      "17_102_ included.\n",
      "17_199_ included.\n",
      "17_227_ included.\n",
      "17_255_ included.\n",
      "17_268_ included.\n",
      "17_283_ included.\n",
      "17_296_ included.\n",
      "17_311_ included.\n",
      "17_324_ included.\n",
      "17_352_ included.\n",
      "17_380_ included.\n",
      "17_505_ included.\n",
      "17_533_ included.\n",
      "17_546_ included.\n",
      "17_561_ included.\n",
      "17_574_ included.\n",
      "18_005_ included.\n",
      "18_018_ included.\n",
      "18_033_ included.\n",
      "18_046_ included.\n",
      "18_074_ included.\n",
      "18_102_ included.\n",
      "18_199_ included.\n",
      "18_227_ included.\n",
      "18_255_ included.\n",
      "18_268_ included.\n",
      "18_283_ included.\n",
      "18_296_ included.\n",
      "18_311_ included.\n",
      "18_324_ included.\n",
      "18_352_ included.\n",
      "18_380_ included.\n",
      "18_505_ included.\n",
      "18_533_ included.\n",
      "18_546_ included.\n",
      "18_561_ included.\n",
      "18_574_ included.\n",
      "19_005_ included.\n",
      "19_018_ included.\n",
      "19_033_ included.\n",
      "19_046_ included.\n",
      "19_074_ included.\n",
      "19_102_ included.\n",
      "19_199_ included.\n",
      "19_227_ included.\n",
      "19_255_ included.\n",
      "19_268_ included.\n",
      "19_283_ included.\n",
      "19_296_ included.\n",
      "19_311_ included.\n",
      "19_324_ included.\n",
      "19_352_ included.\n",
      "19_380_ included.\n",
      "19_505_ included.\n",
      "19_533_ included.\n",
      "19_546_ included.\n",
      "19_561_ included.\n",
      "19_574_ included.\n",
      "20_005_ included.\n",
      "20_018_ included.\n",
      "20_033_ included.\n",
      "20_046_ included.\n",
      "20_074_ included.\n",
      "20_102_ included.\n",
      "20_199_ included.\n",
      "20_227_ included.\n",
      "20_255_ included.\n",
      "20_268_ included.\n",
      "20_283_ included.\n",
      "20_296_ included.\n",
      "20_311_ included.\n",
      "20_324_ included.\n",
      "20_352_ included.\n",
      "20_380_ included.\n",
      "20_505_ included.\n",
      "20_533_ included.\n",
      "20_546_ included.\n",
      "20_561_ included.\n",
      "20_574_ included.\n",
      "21_005_ included.\n",
      "21_018_ included.\n",
      "21_033_ included.\n",
      "21_046_ included.\n",
      "21_074_ included.\n",
      "21_102_ included.\n",
      "21_199_ included.\n",
      "21_227_ included.\n",
      "21_255_ included.\n",
      "21_268_ included.\n",
      "21_283_ included.\n",
      "21_296_ included.\n",
      "21_311_ included.\n",
      "21_352_ included.\n",
      "21_380_ included.\n",
      "21_505_ included.\n",
      "21_533_ included.\n",
      "21_546_ included.\n",
      "21_561_ included.\n",
      "21_574_ included.\n",
      "CPU times: user 2min 38s, sys: 1min 21s, total: 3min 59s\n",
      "Wall time: 50min 22s\n"
     ]
    }
   ],
   "source": [
    "%%time\n",
    "\n",
    "# Load datasets into a dictionary\n",
    "datasets_dict = dp.read_swot_ncfiles_S3subfolders(\n",
    "    s3_folder,\n",
    "    matching_cycles,\n",
    "    endpoint_url,\n",
    "    area)"
   ]
  },
  {
   "cell_type": "code",
   "execution_count": 6,
   "id": "dc1511c0-88e9-4837-94b0-79d07bb91f65",
   "metadata": {},
   "outputs": [
    {
     "name": "stdout",
     "output_type": "stream",
     "text": [
      "CPU times: user 2.75 s, sys: 5.93 s, total: 8.68 s\n",
      "Wall time: 3.76 s\n"
     ]
    }
   ],
   "source": [
    "%%time \n",
    "has_converged, filled_datasets = dp.fill_nan(datasets_dict, varname = \"ssh\")"
   ]
  },
  {
   "cell_type": "code",
   "execution_count": 7,
   "id": "7f9712ff-7a57-4ebf-9435-a596e46216d1",
   "metadata": {},
   "outputs": [
    {
     "name": "stderr",
     "output_type": "stream",
     "text": [
      "/opt/anaconda3/envs/myenv/lib/python3.12/site-packages/widetrax/Spectra.py:43: FutureWarning: The return type of `Dataset.dims` will be changed to return a set of dimension names in future, in order to be more consistent with `DataArray.dims`. To access a mapping from dimension names to lengths, please use `Dataset.sizes`.\n",
      "  for col in range(dataset.dims['num_pixels']):\n"
     ]
    },
    {
     "name": "stdout",
     "output_type": "stream",
     "text": [
      "CPU times: user 274 ms, sys: 5.34 ms, total: 280 ms\n",
      "Wall time: 278 ms\n"
     ]
    }
   ],
   "source": [
    "%%time\n",
    "segments_dict = sp.retrieve_segments(filled_datasets,FileType = \"NetCDF\",namevar=\"ssh\")"
   ]
  },
  {
   "cell_type": "code",
   "execution_count": 8,
   "id": "59ef318b-9264-40a4-9171-5f2b6475e9b3",
   "metadata": {},
   "outputs": [
    {
     "name": "stdout",
     "output_type": "stream",
     "text": [
      "CPU times: user 702 ms, sys: 473 ms, total: 1.18 s\n",
      "Wall time: 4.62 s\n"
     ]
    }
   ],
   "source": [
    "%%time\n",
    "psd_dict, freqs_dict = sp.calculate_psd(segments_dict)\n",
    "# Calculate PSD Mean\n",
    "psd_mean, freqs_mean = sp.psd_mean_and_freq(psd_dict,freqs_dict)"
   ]
  },
  {
   "cell_type": "code",
   "execution_count": 9,
   "id": "b4ecb0d4-7c05-4a2a-93aa-634d1a72e20e",
   "metadata": {},
   "outputs": [
    {
     "data": {
      "text/plain": [
       "array([1.00336418e-01, 5.89500229e-01, 4.19924270e-01, 2.54119823e-01,\n",
       "       9.62950234e-02, 4.73910880e-02, 3.03424533e-02, 1.81197329e-02,\n",
       "       1.05849287e-02, 6.33282993e-03, 3.95946551e-03, 2.43525617e-03,\n",
       "       1.73106268e-03, 1.31487160e-03, 7.78208938e-04, 4.41067169e-04,\n",
       "       3.47258941e-04, 2.64369145e-04, 1.86681560e-04, 1.38310054e-04,\n",
       "       1.06101017e-04, 7.98704324e-05, 5.58013652e-05, 4.11013636e-05,\n",
       "       3.22821874e-05, 2.35777752e-05, 1.84259751e-05, 1.51664269e-05,\n",
       "       1.27012935e-05, 1.01771159e-05, 7.72882914e-06, 5.57223409e-06,\n",
       "       4.76960833e-06, 3.64903561e-06, 2.86636682e-06, 2.41204027e-06,\n",
       "       1.95461640e-06, 1.64687072e-06, 1.36150658e-06, 1.05025525e-06,\n",
       "       8.83206526e-07, 7.57359161e-07, 6.33965009e-07, 5.53777970e-07,\n",
       "       4.94722960e-07, 4.20008481e-07, 3.65660103e-07, 3.31479072e-07,\n",
       "       2.93578783e-07, 2.52131437e-07, 2.18603017e-07, 2.02322432e-07,\n",
       "       1.89354426e-07, 1.72571002e-07, 1.68125901e-07, 1.58073273e-07,\n",
       "       1.47608490e-07, 1.39635615e-07, 1.32636753e-07, 1.26702684e-07,\n",
       "       1.22482406e-07, 1.28052133e-07, 1.28154552e-07, 1.21418447e-07,\n",
       "       1.17598511e-07, 1.10545969e-07, 1.08724931e-07, 1.10533636e-07,\n",
       "       1.05973033e-07, 1.03265487e-07, 1.02447714e-07, 1.02904329e-07,\n",
       "       9.76322172e-08, 9.37425044e-08, 9.37455065e-08, 9.63072618e-08,\n",
       "       9.33834358e-08, 9.43655787e-08, 9.20834793e-08, 9.38698493e-08,\n",
       "       9.45540692e-08, 9.36379730e-08, 9.74004276e-08, 9.23218016e-08,\n",
       "       9.06202092e-08, 9.19547571e-08, 9.08773515e-08, 8.82758204e-08,\n",
       "       8.74988219e-08, 9.20274168e-08, 9.05628751e-08, 8.94664048e-08,\n",
       "       9.35388550e-08, 9.29528962e-08, 9.45039003e-08, 9.77091547e-08,\n",
       "       9.78344510e-08, 9.84471429e-08, 9.77266107e-08, 1.02375672e-07,\n",
       "       1.10640234e-07, 1.17812714e-07, 1.21101971e-07, 1.21342568e-07,\n",
       "       1.20846486e-07, 1.20924341e-07, 1.16610981e-07, 1.20495679e-07,\n",
       "       1.25560045e-07, 1.26490516e-07, 1.26534262e-07, 1.27231713e-07,\n",
       "       1.35659708e-07, 1.46658132e-07, 1.56094030e-07, 1.59332336e-07,\n",
       "       1.55449826e-07, 1.68967869e-07, 1.77289229e-07, 1.89190381e-07,\n",
       "       2.08571352e-07, 2.16062032e-07, 2.35633978e-07, 2.27136447e-07,\n",
       "       2.05203341e-07, 1.98966214e-07, 1.74237716e-07, 1.37627575e-07,\n",
       "       1.16446568e-07, 9.50595365e-08, 6.83578665e-08, 4.65467130e-08,\n",
       "       3.99504143e-08, 4.10129904e-08, 5.29610549e-08, 6.58260358e-08,\n",
       "       8.76393244e-08, 8.87315481e-08, 1.02885257e-07, 1.19260316e-07,\n",
       "       1.10887985e-07, 1.04204835e-07, 1.03612609e-07, 1.03955086e-07,\n",
       "       1.01243463e-07, 9.52423402e-08, 8.64292831e-08, 7.72347835e-08,\n",
       "       7.22641576e-08, 6.82644493e-08, 6.36882398e-08, 5.65466060e-08,\n",
       "       5.08427651e-08, 4.50731748e-08, 3.89221164e-08, 3.55526168e-08,\n",
       "       3.43618372e-08, 3.20517613e-08, 3.22473179e-08, 3.07632058e-08,\n",
       "       3.05059964e-08, 2.88817013e-08, 2.72982236e-08, 2.63032066e-08,\n",
       "       2.48613402e-08, 2.33029190e-08, 1.97433014e-08, 1.81186322e-08,\n",
       "       1.61805282e-08, 1.48137785e-08, 1.33055139e-08, 1.20276913e-08,\n",
       "       1.11039818e-08, 1.01523585e-08, 9.01602539e-09, 8.26915039e-09,\n",
       "       7.55846919e-09, 7.36064693e-09, 7.04589867e-09, 6.45635663e-09,\n",
       "       6.18776500e-09, 6.35834545e-09, 6.36713799e-09, 6.18221038e-09,\n",
       "       5.99015549e-09, 5.65458665e-09, 5.29459544e-09, 5.55510794e-09,\n",
       "       4.98994463e-09, 4.35050025e-09, 4.03544795e-09, 3.98538605e-09,\n",
       "       3.99968860e-09, 3.75305117e-09, 3.51644932e-09, 3.40790197e-09,\n",
       "       3.33868339e-09, 3.18309146e-09, 3.04679063e-09, 3.07989051e-09,\n",
       "       3.11881279e-09, 3.04533965e-09, 3.02723861e-09, 2.89874947e-09,\n",
       "       2.88690256e-09, 2.90632346e-09, 2.98407952e-09, 3.00541686e-09,\n",
       "       3.09028252e-09, 3.23187208e-09, 3.32174105e-09, 3.42728356e-09,\n",
       "       3.47991859e-09, 3.45695357e-09, 3.42024459e-09, 3.39365906e-09,\n",
       "       3.36405053e-09, 3.31828064e-09, 3.31937093e-09, 3.27151235e-09,\n",
       "       3.17422530e-09, 3.21843356e-09, 3.46688109e-09, 3.73956163e-09,\n",
       "       3.90428641e-09, 4.01271982e-09, 4.06282784e-09, 4.23296661e-09,\n",
       "       4.34285746e-09, 4.24884757e-09, 4.19070730e-09, 4.40643056e-09,\n",
       "       4.70265754e-09, 4.78236912e-09, 5.06604092e-09, 5.17425436e-09,\n",
       "       5.01116581e-09, 5.04745699e-09, 5.51066955e-09, 5.60369523e-09,\n",
       "       5.94356655e-09, 6.18622070e-09, 6.28310601e-09, 6.61142438e-09,\n",
       "       6.80444054e-09, 7.36073274e-09, 8.10714919e-09, 8.80915904e-09,\n",
       "       8.73773379e-09, 9.39459602e-09, 9.62440400e-09, 1.05124492e-08,\n",
       "       1.24434379e-08, 1.35807762e-08, 1.43526489e-08, 1.36375608e-08,\n",
       "       1.31519234e-08, 1.23428337e-08, 1.21184587e-08, 1.06899367e-08,\n",
       "       8.48945841e-09, 8.01318621e-09, 6.92491886e-09, 5.97785098e-09,\n",
       "       5.93382004e-09, 5.51257447e-09, 6.17445408e-09, 6.91823919e-09,\n",
       "       7.54192431e-09, 7.88302313e-09, 8.69813876e-09, 9.35365305e-09,\n",
       "       9.77566990e-09, 9.31141175e-09, 9.32141474e-09, 9.75412870e-09,\n",
       "       9.32357887e-09, 8.88578939e-09, 8.65118136e-09, 8.06813488e-09,\n",
       "       7.50837461e-09, 7.35480761e-09, 7.51114088e-09, 7.55307461e-09,\n",
       "       6.66893807e-09, 6.29515984e-09, 6.87169025e-09, 3.34036477e-09])"
      ]
     },
     "execution_count": 9,
     "metadata": {},
     "output_type": "execute_result"
    }
   ],
   "source": [
    "psd_mean"
   ]
  },
  {
   "cell_type": "markdown",
   "id": "f60c3776-1df4-4bbb-abd7-20dde44c01b3",
   "metadata": {},
   "source": [
    "## 💾 **Save Results and Information in JSON File**"
   ]
  },
  {
   "cell_type": "code",
   "execution_count": 10,
   "id": "1b7c4e9e-0a0c-4903-97e2-345248d4350c",
   "metadata": {},
   "outputs": [
    {
     "name": "stdout",
     "output_type": "stream",
     "text": [
      "JSON file created\n"
     ]
    }
   ],
   "source": [
    "# Infos\n",
    "nom_region = name_region\n",
    "model = \"GLO12V4\"\n",
    "name_season = season\n",
    "freqs_mean = np.array(freqs_mean)\n",
    "psd_mean = np.array(psd_mean)\n",
    "todays_Date = datetime.now()\n",
    "date_creation = todays_Date.isoformat() #ISO 8601 format\n",
    "packages_versions = watermark(packages=\"numpy,widetrax,xarray,s3fs,pyinterp,datetime,json,platform,time\")\n",
    "machine_info = {\n",
    "    \"system\": platform.system(),\n",
    "    \"node_name\": platform.node(),\n",
    "    \"release\": platform.release(),\n",
    "    \"version\": platform.version(),\n",
    "    \"machine\": platform.machine(),\n",
    "    \"processor\": platform.processor(),\n",
    "    \"python_version\": platform.python_version()\n",
    "}\n",
    "\n",
    "# JSON file structure\n",
    "donnees = {\n",
    "    \"region\": nom_region,\n",
    "    \"model\": model,\n",
    "    \"lon_min\": lon_min,\n",
    "    \"lon_max\": lon_max,\n",
    "    \"lat_min\": lat_min,\n",
    "    \"lat_max\": lat_max,\n",
    "    \"start_date\": datetime.strptime(start_date, \"%d%m%Y\").strftime(\"%Y-%m-%d\"),\n",
    "    \"end_date\": datetime.strptime(end_date, \"%d%m%Y\").strftime(\"%Y-%m-%d\"),\n",
    "    \"packages_versions\": packages_versions,\n",
    "    \"date_creation\": date_creation,\n",
    "    \"login_creator\": platform.node(),\n",
    "    \"Frequency\": freqs_mean.tolist(),\n",
    "    \"Spectra\": psd_mean.tolist(),\n",
    "    \"machine_info\": machine_info\n",
    "}\n",
    "\n",
    "# Save on JSON file\n",
    "with open(str(nom_region)+\"_\"+str(name_season)+\"_\"+str(model)+\".json\", \"w\", encoding=\"utf-8\") as f:\n",
    "    json.dump(donnees, f, ensure_ascii=False, indent=4)\n",
    "#with open(\"OMIP_\"+str(model)+\"_\"+str(nom_region)+\"_\"+str(name_season)+\".json\", \"w\", encoding=\"utf-8\") as f:\n",
    "  #  json.dump(donnees, f, ensure_ascii=False, indent=4)\n",
    "\n",
    "#<region>-<period>-<data-source>.json\n",
    "print(\"JSON file created\")"
   ]
  },
  {
   "cell_type": "markdown",
   "id": "ceb9ff90-2512-4064-a967-277ade24e123",
   "metadata": {},
   "source": [
    "## 📤 **Export Results to the S3 Endpoint** "
   ]
  },
  {
   "cell_type": "code",
   "execution_count": 11,
   "id": "f16ad42b-62d6-4dd0-a4a9-73832c777f1c",
   "metadata": {},
   "outputs": [],
   "source": [
    "fs = s3fs.S3FileSystem( anon=True, endpoint_url=\"https://minio.lab.dive.edito.eu\", use_ssl=False ) "
   ]
  },
  {
   "cell_type": "code",
   "execution_count": 12,
   "id": "28f11812-7154-4c0d-9fe2-43fdb36b2b94",
   "metadata": {},
   "outputs": [
    {
     "data": {
      "text/plain": [
       "[None]"
      ]
     },
     "execution_count": 12,
     "metadata": {},
     "output_type": "execute_result"
    }
   ],
   "source": [
    "json_file = str(nom_region)+\"_\"+str(name_season)+\"_\"+str(model)+\".json\"\n",
    "fs.put(json_file, \"project-meom-ige/OMIP/\")"
   ]
  },
  {
   "cell_type": "code",
   "execution_count": 16,
   "id": "3ca414dc-e295-40ba-8e16-162ae2bde72c",
   "metadata": {},
   "outputs": [
    {
     "data": {
      "text/plain": [
       "<s3fs.core.S3FileSystem at 0x3439b6630>"
      ]
     },
     "execution_count": 16,
     "metadata": {},
     "output_type": "execute_result"
    }
   ],
   "source": [
    "fs"
   ]
  }
 ],
 "metadata": {
  "kernelspec": {
   "display_name": "Python 3 (ipykernel)",
   "language": "python",
   "name": "python3"
  },
  "language_info": {
   "codemirror_mode": {
    "name": "ipython",
    "version": 3
   },
   "file_extension": ".py",
   "mimetype": "text/x-python",
   "name": "python",
   "nbconvert_exporter": "python",
   "pygments_lexer": "ipython3",
   "version": "3.12.2"
  }
 },
 "nbformat": 4,
 "nbformat_minor": 5
}
